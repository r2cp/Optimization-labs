{
 "cells": [
  {
   "cell_type": "markdown",
   "metadata": {},
   "source": [
    "# Laboratorio 2 - *Gradient Descent*\n",
    "\n",
    "Universidad Galileo\n",
    "Algoritmos en la Ciencia de Datos\n",
    "\n",
    "**Rodrigo Rafael Chang Papa**\n",
    "\n",
    "**Carné: 19000625**"
   ]
  },
  {
   "cell_type": "markdown",
   "metadata": {},
   "source": [
    "## Carga de librerías"
   ]
  },
  {
   "cell_type": "code",
   "execution_count": 1,
   "metadata": {},
   "outputs": [],
   "source": [
    "import numpy as np\n",
    "import pandas as pd\n",
    "import matplotlib.pyplot as plt"
   ]
  },
  {
   "cell_type": "markdown",
   "metadata": {},
   "source": [
    "***\n",
    "## Problema 1: **Gradient descent** para el problema cuadrático"
   ]
  },
  {
   "cell_type": "code",
   "execution_count": 2,
   "metadata": {},
   "outputs": [],
   "source": [
    "# Funciones para obtener la función QP y su gradiente\n",
    "def qp(x, Q, c):\n",
    "    return (0.5*np.matmul(c.T, np.matmul(Q, c)) + np.matmul(c.T, x))\n",
    "\n",
    "def qp_grad(x, Q, c):\n",
    "    return (np.matmul(Q,x) + c)"
   ]
  },
  {
   "cell_type": "markdown",
   "metadata": {},
   "source": [
    "Si el problema es QP, entonces el método de *step size* exacto es tal que: $$ \\alpha_k \\triangleq \\mathrm{arg}\\min_{\\alpha \\geq 0} f\\left(x_k - \\alpha_k\\nabla f(x_k)\\right)\n",
    "$$. Como se resolvió en clase: $$ \\alpha_k = \\frac{\\nabla f(x_k)^T \\nabla f(x_k)}{\\nabla f(x_k)^T Q \\nabla f(x_k)} $$"
   ]
  },
  {
   "cell_type": "code",
   "execution_count": 3,
   "metadata": {},
   "outputs": [],
   "source": [
    "# Función de gradiente en descenso para QP\n",
    "def gradientDescentQP(Q, c, x0, step_size=1, alfa=0.01, N=100, eps=1e-6):\n",
    "    \n",
    "    # Funciones para evaluar la función y su gradiente\n",
    "    f = lambda x: qp(x, Q, c)\n",
    "    grad_f = lambda x : qp_grad(x, Q, c)\n",
    "    \n",
    "    # Asignamos el valor inicial\n",
    "    x = x0\n",
    "    \n",
    "    # Listas para guardar valores útiles\n",
    "    iterList = []\n",
    "    gradNormList = []\n",
    "    solutionList = []\n",
    "    pkList = []\n",
    "    \n",
    "    # Para el número de iteraciones\n",
    "    for k in range(1, N+1):\n",
    "\n",
    "        # Guardamos los datos de iteraciones\n",
    "        iterList.append(k)\n",
    "        gradNormList.append(np.linalg.norm(grad_f(x)))\n",
    "        solutionList.append(x.reshape(-1))\n",
    "        pkList.append(-grad_f(x).reshape(-1))\n",
    "        \n",
    "        # Revisamos la norma del vector gradiente\n",
    "        if np.linalg.norm(grad_f(x)) < eps:\n",
    "            break\n",
    "            \n",
    "        # Dependiendo del parámetro step_size, escogemos alfa\n",
    "        if (step_size == 0):\n",
    "            # Learning rate es exacto para el problema QP\n",
    "            lr = (np.matmul(grad_f(x0).T, grad_f(x0)) / np.matmul(grad_f(x0).T, np.matmul(Q, grad_f(x0))))[0,0]\n",
    "        elif (step_size == 1):\n",
    "            # Learning rate es constante e igual a alfa dado\n",
    "            lr = alfa\n",
    "        else:\n",
    "            # Learning rate es variable e igual a 1/k para k>0\n",
    "            lr = 1/k\n",
    "            \n",
    "        # Actualizamos el valor de x_k\n",
    "        x = x - lr*grad_f(x)\n",
    "    \n",
    "    # Generamos un DataFrame con los resultados\n",
    "    data = {'Iteracion':iterList, 'X_k': solutionList, 'GradNorm':gradNormList, 'P_k':pkList}\n",
    "    gd_df = pd.DataFrame(data)\n",
    "    return gd_df"
   ]
  },
  {
   "cell_type": "code",
   "execution_count": 4,
   "metadata": {},
   "outputs": [],
   "source": [
    "def graficarNormaGrad(gd_df):\n",
    "    x = gd_df['Iteracion'].values\n",
    "    y = gd_df['GradNorm'].values\n",
    "    plt.plot(x, y, 'r-*')\n",
    "    plt.title('Norma del vector gradiente')\n",
    "    plt.xlabel('Iteración k')"
   ]
  },
  {
   "cell_type": "markdown",
   "metadata": {},
   "source": [
    "### Pruebas con la primera matriz $Q_1$ y $c_1$"
   ]
  },
  {
   "cell_type": "code",
   "execution_count": 5,
   "metadata": {},
   "outputs": [],
   "source": [
    "Q_1 = np.array([[2, -1, 0], [-1, 2, -1], [0, -1, 2]])\n",
    "c_1 = np.array([1, 0, 1]).reshape(-1, 1)\n",
    "x_0 = np.array([3, 5, 7]).reshape(-1, 1)"
   ]
  },
  {
   "cell_type": "code",
   "execution_count": 6,
   "metadata": {},
   "outputs": [
    {
     "name": "stdout",
     "output_type": "stream",
     "text": [
      "Método de step size exacto\n",
      "    Iteracion                                                X_k  GradNorm  \\\n",
      "20         21         [-0.994140625, -0.994140625, -0.994140625]  0.008286   \n",
      "21         22       [-0.9970703125, -0.994140625, -0.9970703125]  0.005859   \n",
      "22         23      [-0.9970703125, -0.9970703125, -0.9970703125]  0.004143   \n",
      "23         24    [-0.99853515625, -0.9970703125, -0.99853515625]  0.002930   \n",
      "24         25   [-0.99853515625, -0.99853515625, -0.99853515625]  0.002072   \n",
      "25         26  [-0.999267578125, -0.99853515625, -0.999267578...  0.001465   \n",
      "26         27  [-0.999267578125, -0.999267578125, -0.99926757...  0.001036   \n",
      "27         28  [-0.9996337890625, -0.999267578125, -0.9996337...  0.000732   \n",
      "28         29  [-0.9996337890625, -0.9996337890625, -0.999633...  0.000518   \n",
      "29         30  [-0.99981689453125, -0.9996337890625, -0.99981...  0.000366   \n",
      "\n",
      "                                           P_k  \n",
      "20          [-0.005859375, -0.0, -0.005859375]  \n",
      "21                  [-0.0, -0.005859375, -0.0]  \n",
      "22        [-0.0029296875, -0.0, -0.0029296875]  \n",
      "23                 [-0.0, -0.0029296875, -0.0]  \n",
      "24      [-0.00146484375, -0.0, -0.00146484375]  \n",
      "25                [-0.0, -0.00146484375, -0.0]  \n",
      "26    [-0.000732421875, -0.0, -0.000732421875]  \n",
      "27               [-0.0, -0.000732421875, -0.0]  \n",
      "28  [-0.0003662109375, -0.0, -0.0003662109375]  \n",
      "29              [-0.0, -0.0003662109375, -0.0]  \n"
     ]
    }
   ],
   "source": [
    "# Se obtienen resultados del GD para los diferentes tipos de step size\n",
    "exact_step_size = gradientDescentQP(Q_1, c_1, x_0, step_size=0, N=30)\n",
    "print(\"Método de step size exacto\")\n",
    "print(exact_step_size.tail(10))"
   ]
  },
  {
   "cell_type": "code",
   "execution_count": 7,
   "metadata": {},
   "outputs": [
    {
     "name": "stdout",
     "output_type": "stream",
     "text": [
      "Método de step size constante\n",
      "    Iteracion                                                X_k  GradNorm  \\\n",
      "20         21  [0.5084576788459928, 1.1653053501855135, 0.554...  1.795226   \n",
      "21         22  [0.4232966780953456, 1.0385475019360368, 0.460...  1.689754   \n",
      "22         23  [0.3424920926698802, 0.9191866859826405, 0.372...  1.590559   \n",
      "23         24  [0.2659123427341682, 0.8067992463718819, 0.289...  1.497243   \n",
      "24         25  [0.19340979882452275, 0.700983048885774, 0.212...  1.409439   \n",
      "25         26  [0.12482614394819559, 0.6013573454666716, 0.13...  1.326810   \n",
      "26         27  [0.05999664970522364, 0.5075622624374947, 0.07...  1.249042   \n",
      "27         28  [-0.0012464539920716278, 0.4192580657106551, 0...  1.175844   \n",
      "28         29  [-0.05907135662259179, 0.33612430242580144, -0...  1.106944   \n",
      "29         30  [-0.11364465505549329, 0.2578588831406762, -0....  1.042087   \n",
      "\n",
      "                                                  P_k  \n",
      "20  [-0.8516100075064721, -1.2675784824947676, -0....  \n",
      "21  [-0.8080458542546544, -1.1936081595339634, -0....  \n",
      "22  [-0.7657974993571198, -1.1238743961075854, -0....  \n",
      "23  [-0.7250254390964544, -1.0581619748610793, -0....  \n",
      "24  [-0.6858365487632715, -0.996257034191024, -0.7...  \n",
      "25  [-0.6482949424297195, -0.9379508302917692, -0....  \n",
      "26  [-0.6124310369729526, -0.8830419672683958, -0....  \n",
      "27  [-0.5782490263052016, -0.8313376328485365, -0....  \n",
      "28  [-0.545732984329015, -0.7826541928512528, -0.5...  \n",
      "29  [-0.5148518067483372, -0.736817376195912, -0.5...  \n"
     ]
    }
   ],
   "source": [
    "const_step_size = gradientDescentQP(Q_1, c_1, x_0, step_size=1, alfa=0.1, N=30)\n",
    "print(\"Método de step size constante\")\n",
    "print(const_step_size.tail(10))"
   ]
  },
  {
   "cell_type": "code",
   "execution_count": 8,
   "metadata": {},
   "outputs": [
    {
     "name": "stdout",
     "output_type": "stream",
     "text": [
      "Método de step size variable\n",
      "    Iteracion                                                X_k  GradNorm  \\\n",
      "20         21  [-0.5887695402953926, -0.41832868516674937, -0...  0.481829   \n",
      "21         22  [-0.6002357119418671, -0.4345611475599535, -0....  0.468389   \n",
      "22         23  [-0.6108761539271498, -0.44962247159467295, -0...  0.455917   \n",
      "23         24  [-0.6207835523506443, -0.4636445309279318, -0....  0.444306   \n",
      "24         25  [-0.6300367784434211, -0.4767394493798245, -0....  0.433461   \n",
      "25         26  [-0.6387034141431404, -0.4890032357049122, -0....  0.423304   \n",
      "26         27  [-0.6468417375053954, -0.5005186340463144, -0....  0.413767   \n",
      "27         28  [-0.6545022989511555, -0.5113573824506907, -0....  0.404790   \n",
      "28         29  [-0.6617291841135977, -0.5215820193435811, -0....  0.396322   \n",
      "29         30  [-0.6685610341520938, -0.5312473410518581, -0....  0.388316   \n",
      "\n",
      "                                                  P_k  \n",
      "20  [-0.2407896045759641, -0.34088171025728653, -0...  \n",
      "21  [-0.23408972367621939, -0.33134912876382716, -...  \n",
      "22  [-0.2278701637403734, -0.32250736466495367, -0...  \n",
      "23  [-0.22207742622664317, -0.31427804284542504, -...  \n",
      "24  [-0.2166658924929823, -0.3065946581271932, -0....  \n",
      "25  [-0.2115964074186315, -0.2994003568764563, -0....  \n",
      "26  [-0.20683515903552352, -0.2926462069181621, -0...  \n",
      "27  [-0.20235278454837968, -0.2862898330009296, -0...  \n",
      "28  [-0.19812365111638564, -0.2802943295400333, -0...  \n",
      "29  [-0.19412527274767055, -0.27462738620047134, -...  \n"
     ]
    }
   ],
   "source": [
    "var_step_size = gradientDescentQP(Q_1, c_1, x_0, step_size=2, N=30)\n",
    "print(\"Método de step size variable\")\n",
    "print(var_step_size.tail(10))"
   ]
  },
  {
   "cell_type": "code",
   "execution_count": 9,
   "metadata": {},
   "outputs": [
    {
     "data": {
      "image/png": "[encoded data removed]",
      "text/plain": [
       "<Figure size 1152x576 with 1 Axes>"
      ]
     },
     "metadata": {
      "needs_background": "light"
     },
     "output_type": "display_data"
    }
   ],
   "source": [
    "k = exact_step_size['Iteracion'].values\n",
    "\n",
    "plt.figure(figsize=(16,8))\n",
    "plt.plot(k, exact_step_size['GradNorm'].values, 'r-', label='step size exacto')\n",
    "plt.plot(k, const_step_size['GradNorm'].values, 'b-*', label='step size constante')\n",
    "plt.plot(k, var_step_size['GradNorm'].values, 'y--', label='step size 1/k')\n",
    "plt.xlabel('Iteración k')\n",
    "plt.ylabel('Norma del gradiente')\n",
    "plt.legend();"
   ]
  },
  {
   "cell_type": "markdown",
   "metadata": {},
   "source": [
    "### Pruebas con la primera matriz $Q_2$ y $c_2$"
   ]
  },
  {
   "cell_type": "code",
   "execution_count": 15,
   "metadata": {},
   "outputs": [],
   "source": [
    "Q_2 = np.array([[2, -1, 0], [-1, 2, -1], [0, -1, 2]])\n",
    "c_2 = np.array([1, 0, 1]).reshape(-1, 1)\n",
    "x_0 = np.array([-1, 2, -3]).reshape(-1, 1)"
   ]
  },
  {
   "cell_type": "code",
   "execution_count": 16,
   "metadata": {},
   "outputs": [
    {
     "name": "stdout",
     "output_type": "stream",
     "text": [
      "Método de step size exacto\n",
      "    Iteracion                                                X_k  GradNorm  \\\n",
      "20         21  [-0.9885766021869596, -0.9838448886278748, -0....  0.013383   \n",
      "21         22  [-0.9905973583230551, -0.9867026616652448, -0....  0.011016   \n",
      "22         23  [-0.9922606486506156, -0.9890549063565081, -0....  0.009067   \n",
      "23         24  [-0.9936297088108724, -0.9909910485956653, -0....  0.007463   \n",
      "24         25  [-0.9947565874713138, -0.992584695202318, -0.9...  0.006143   \n",
      "25         26  [-0.9956841257675569, -0.9938964322511421, -0....  0.005056   \n",
      "26         27  [-0.996447586280813, -0.9949761283883376, -0.9...  0.004162   \n",
      "27         28  [-0.9970759937334338, -0.9958648307008323, -0....  0.003426   \n",
      "28         29  [-0.9975932384724033, -0.9965963252139876, -0....  0.002820   \n",
      "29         30  [-0.9980189847319084, -0.9971984213436512, -0....  0.002321   \n",
      "\n",
      "                                                  P_k  \n",
      "20  [-0.006691684253955499, -0.00946344514014319, ...  \n",
      "21  [-0.005507945019134652, -0.0077894004530358885...  \n",
      "22  [-0.004533609055276888, -0.006411487414914152,...  \n",
      "23  [-0.0037316309739204856, -0.005277321549898906...  \n",
      "24  [-0.0030715202596903746, -0.004343784981352128...  \n",
      "25  [-0.0025281807160282277, -0.003575387208417879...  \n",
      "26  [-0.002080955826711639, -0.002942915854490691,...  \n",
      "27  [-0.0017128432339647004, -0.002422326092743398...  \n",
      "28  [-0.0014098482691808911, -0.001993826527738829...  \n",
      "29  [-0.0011604518798343788, -0.001641126780834056...  \n"
     ]
    }
   ],
   "source": [
    "# Se obtienen resultados del GD para los diferentes tipos de step size\n",
    "exact_step_size = gradientDescentQP(Q_2, c_2, x_0, step_size=0, N=30)\n",
    "print(\"Método de step size exacto\")\n",
    "print(exact_step_size.tail(10))"
   ]
  },
  {
   "cell_type": "code",
   "execution_count": 17,
   "metadata": {},
   "outputs": [
    {
     "name": "stdout",
     "output_type": "stream",
     "text": [
      "Método de step size constante\n",
      "    Iteracion                                                X_k  GradNorm  \\\n",
      "20         21  [-0.8211973089453638, -0.7623996465704215, -0....  0.199108   \n",
      "21         22  [-0.8331978118133332, -0.7764650220546236, -0....  0.186737   \n",
      "22         23  [-0.844204751656129, -0.7896562544137365, -0.8...  0.175318   \n",
      "23         24  [-0.8543294267662769, -0.8020416933881118, -0....  0.164721   \n",
      "24         25  [-0.8636677107518327, -0.8136798316844622, -0....  0.154850   \n",
      "25         26  [-0.8723021517699123, -0.8246218807945103, -0....  0.145628   \n",
      "26         27  [-0.8803039094953808, -0.8349135136268498, -0....  0.136994   \n",
      "27         28  [-0.8877344789589896, -0.8445960557103633, -0....  0.128899   \n",
      "28         29  [-0.894647188738228, -0.8537073106879345, -0.8...  0.121301   \n",
      "29         30  [-0.9010884820593759, -0.8622821425602699, -0....  0.114163   \n",
      "\n",
      "                                                  P_k  \n",
      "20  [-0.12000502867969387, -0.1406537548420217, -0...  \n",
      "21  [-0.11006939842795727, -0.1319123235911286, -0...  \n",
      "22  [-0.10124675110147863, -0.12385438974375229, -...  \n",
      "23  [-0.09338283985555806, -0.11638138296350409, -...  \n",
      "24  [-0.08634441018079686, -0.10942049110048013, -...  \n",
      "25  [-0.08001757725468561, -0.10291632832339559, -...  \n",
      "26  [-0.07430569463608816, -0.09682542083513535, -...  \n",
      "27  [-0.06912709779238413, -0.09111254977571104, -...  \n",
      "28  [-0.06441293321147845, -0.08574831872335409, -...  \n",
      "29  [-0.06010517844151819, -0.08070752909642542, -...  \n"
     ]
    }
   ],
   "source": [
    "const_step_size = gradientDescentQP(Q_2, c_2, x_0, step_size=1, alfa=0.1, N=30)\n",
    "print(\"Método de step size constante\")\n",
    "print(const_step_size.tail(10))"
   ]
  },
  {
   "cell_type": "code",
   "execution_count": 18,
   "metadata": {},
   "outputs": [
    {
     "name": "stdout",
     "output_type": "stream",
     "text": [
      "Método de step size variable\n",
      "    Iteracion                                                X_k  GradNorm  \\\n",
      "20         21  [-0.9549111731983391, -0.9364188160882322, -0....  0.052750   \n",
      "21         22  [-0.9561776717550797, -0.9381799929558614, -0....  0.051279   \n",
      "22         23  [-0.9573515194571571, -0.9398161455739722, -0....  0.049913   \n",
      "23         24  [-0.958443393659751, -0.9413409606942491, -0.9...  0.048641   \n",
      "24         25  [-0.9594623175503654, -0.9427661634413742, -0....  0.047454   \n",
      "25         26  [-0.9604159786839911, -0.9441018557700935, -0....  0.046342   \n",
      "26         27  [-0.96131097477638, -0.9453567883019318, -0.96...  0.045298   \n",
      "27         28  [-0.9621530058411641, -0.9465385798926317, -0....  0.044315   \n",
      "28         29  [-0.9629470261343893, -0.9476538960318126, -0....  0.043388   \n",
      "29         30  [-0.9636973655744939, -0.9487085946595765, -0....  0.042511   \n",
      "\n",
      "                                                  P_k  \n",
      "20  [-0.026596469691554048, -0.036984714220213766,...  \n",
      "21  [-0.025824649445701953, -0.03599535759843664, ...  \n",
      "22  [-0.025113106659657936, -0.03507074776636987, ...  \n",
      "23  [-0.0244541733747472, -0.03420486593100369, -0...  \n",
      "24  [-0.02384152834064346, -0.033392308217982336, ...  \n",
      "25  [-0.023269898402111355, -0.03262824582779511, ...  \n",
      "26  [-0.022734838749171926, -0.03190837294889626, ...  \n",
      "27  [-0.022232568210303394, -0.031228851897064924,...  \n",
      "28  [-0.02175984376303397, -0.030586260205153426, ...  \n",
      "29  [-0.021313863510588615, -0.02997754182983492, ...  \n"
     ]
    }
   ],
   "source": [
    "var_step_size = gradientDescentQP(Q_2, c_2, x_0, step_size=2, N=30)\n",
    "print(\"Método de step size variable\")\n",
    "print(var_step_size.tail(10))"
   ]
  },
  {
   "cell_type": "code",
   "execution_count": 19,
   "metadata": {},
   "outputs": [
    {
     "data": {
      "image/png": "[encoded data removed]",
      "text/plain": [
       "<Figure size 1152x576 with 1 Axes>"
      ]
     },
     "metadata": {
      "needs_background": "light"
     },
     "output_type": "display_data"
    }
   ],
   "source": [
    "k = exact_step_size['Iteracion'].values\n",
    "\n",
    "plt.figure(figsize=(16,8))\n",
    "plt.plot(k, exact_step_size['GradNorm'].values, 'r-', label='step size exacto')\n",
    "plt.plot(k, const_step_size['GradNorm'].values, 'b-*', label='step size constante')\n",
    "plt.plot(k, var_step_size['GradNorm'].values, 'y--', label='step size 1/k')\n",
    "plt.xlabel('Iteración k')\n",
    "plt.ylabel('Norma del gradiente')\n",
    "plt.legend();"
   ]
  },
  {
   "cell_type": "markdown",
   "metadata": {},
   "source": [
    "## Conclusiones\n",
    "Para el primer conjunto de ejercicios, en general, se observa que la mejor elección de $\\alpha_k$ para cada iteración es la que se obtiene como resultado del problema de optimización, es decir, el método de selección exacta. Por otra parte, cuando se escoge $\\alpha_k = 0.5$, se obtienen resultados muy similares a los obtenidos con el método exacto. En este sentido, esto da lugar a la idea de que para un determinado problema, es posible encontrar un *step size* (o *learning rate*) ideal para el algoritmo de gradiente en descenso.\n",
    "\n",
    "Como se observa en el segundo conjunto de ejercicios, la elección del punto inicial del algoritmo de gradiente en descenso puede mejorar el desempeño del algoritmo a pesar de las diferentes elecciones de $\\alpha_k$. En este caso, se puede observar que las 3 variantes convergen más o menos en la misma cantidad de iteraciones a los mismos valores de magnitud para el vector gradiente."
   ]
  },
  {
   "cell_type": "markdown",
   "metadata": {},
   "source": [
    "***\n",
    "## Problema 2: **Rosenbrock's Function**: función banana"
   ]
  },
  {
   "cell_type": "code",
   "execution_count": 44,
   "metadata": {},
   "outputs": [],
   "source": [
    "# Definimos la función Rosenbrock y su gradiente\n",
    "\n",
    "f = lambda x : 100*(x[1] - x[0]**2)**2 + (1-x[0])**2\n",
    "grad_f = lambda x : np.array([-400*(x[1] - x[0]**2)*(x[0]) - 2*(1-x[0]), 200*(x[1] - x[0]**2)]).reshape(-1, 1)"
   ]
  },
  {
   "cell_type": "code",
   "execution_count": 45,
   "metadata": {},
   "outputs": [
    {
     "name": "stdout",
     "output_type": "stream",
     "text": [
      "Función en x0:  [1.]\n",
      "Gradiente: \n",
      " [[-2.]\n",
      " [ 0.]]\n"
     ]
    }
   ],
   "source": [
    "x0 = np.array([0, 0.]).reshape(-1, 1)\n",
    "print('Función en x0: ', f(x0))\n",
    "print('Gradiente: \\n', grad_f(x0))"
   ]
  },
  {
   "cell_type": "code",
   "execution_count": 46,
   "metadata": {},
   "outputs": [],
   "source": [
    "# Función de gradiente en descenso más general, para una función y su gradiente\n",
    "def gradientDescent_fn(f, grad_f, x0, step_size=1, alfa=0.01, N=100, eps=1e-6):\n",
    "    \n",
    "    # Asignamos el valor inicial\n",
    "    x = x0\n",
    "    \n",
    "    # Listas para guardar valores útiles\n",
    "    iterList = []\n",
    "    gradNormList = []\n",
    "    solutionList = []\n",
    "    pkList = []\n",
    "    \n",
    "    # Para el número de iteraciones\n",
    "    for k in range(1, N+1):\n",
    "\n",
    "        # Guardamos los datos de iteraciones\n",
    "        iterList.append(k)\n",
    "        gradNormList.append(np.linalg.norm(grad_f(x)))\n",
    "        solutionList.append(x.reshape(-1))\n",
    "        pkList.append(-grad_f(x).reshape(-1))\n",
    "        \n",
    "        # Revisamos la norma del vector gradiente\n",
    "        if np.linalg.norm(grad_f(x)) < eps:\n",
    "            break\n",
    "            \n",
    "        # Dependiendo del parámetro step_size, escogemos alfa\n",
    "        if (step_size == 1):\n",
    "            # Learning rate es constante e igual a alfa dado\n",
    "            lr = alfa\n",
    "        else:\n",
    "            # Learning rate es variable e igual a 1/k para k>0\n",
    "            lr = 1/k\n",
    "            \n",
    "        # Actualizamos el valor de x_k\n",
    "        x = x - lr*grad_f(x)\n",
    "    \n",
    "    # Generamos un DataFrame con los resultados\n",
    "    data = {'Iteracion':iterList, 'X_k': solutionList, 'GradNorm':gradNormList, 'P_k':pkList}\n",
    "    gd_df = pd.DataFrame(data)\n",
    "    return gd_df"
   ]
  },
  {
   "cell_type": "code",
   "execution_count": 60,
   "metadata": {
    "scrolled": true
   },
   "outputs": [
    {
     "name": "stdout",
     "output_type": "stream",
     "text": [
      "     Iteracion                                                X_k  \\\n",
      "0            1                                         [0.0, 0.0]   \n",
      "1            2                                         [0.1, 0.0]   \n",
      "2            3         [0.16999999999999998, 0.10000000000000003]   \n",
      "3            4          [0.4947400000000001, -0.6110000000000004]   \n",
      "4            5           [-7.922383917368489, 7.9466766760000045]   \n",
      "5            6             [8678.673918712371, 556.1215792577889]   \n",
      "6            7           [-13073350411199.658, 753188804.7791702]   \n",
      "7            8    [4.468797768308575e+40, 1.7091249097401427e+27]   \n",
      "8            9  [-1.7848515473388867e+123, 1.9970153494039706e...   \n",
      "9           10                      [inf, 3.185695046038018e+247]   \n",
      "10          11                                         [nan, inf]   \n",
      "11          12                                         [nan, nan]   \n",
      "12          13                                         [nan, nan]   \n",
      "13          14                                         [nan, nan]   \n",
      "14          15                                         [nan, nan]   \n",
      "15          16                                         [nan, nan]   \n",
      "16          17                                         [nan, nan]   \n",
      "17          18                                         [nan, nan]   \n",
      "18          19                                         [nan, nan]   \n",
      "19          20                                         [nan, nan]   \n",
      "20          21                                         [nan, nan]   \n",
      "21          22                                         [nan, nan]   \n",
      "22          23                                         [nan, nan]   \n",
      "23          24                                         [nan, nan]   \n",
      "24          25                                         [nan, nan]   \n",
      "25          26                                         [nan, nan]   \n",
      "26          27                                         [nan, nan]   \n",
      "27          28                                         [nan, nan]   \n",
      "28          29                                         [nan, nan]   \n",
      "29          30                                         [nan, nan]   \n",
      "..         ...                                                ...   \n",
      "970        971                                         [nan, nan]   \n",
      "971        972                                         [nan, nan]   \n",
      "972        973                                         [nan, nan]   \n",
      "973        974                                         [nan, nan]   \n",
      "974        975                                         [nan, nan]   \n",
      "975        976                                         [nan, nan]   \n",
      "976        977                                         [nan, nan]   \n",
      "977        978                                         [nan, nan]   \n",
      "978        979                                         [nan, nan]   \n",
      "979        980                                         [nan, nan]   \n",
      "980        981                                         [nan, nan]   \n",
      "981        982                                         [nan, nan]   \n",
      "982        983                                         [nan, nan]   \n",
      "983        984                                         [nan, nan]   \n",
      "984        985                                         [nan, nan]   \n",
      "985        986                                         [nan, nan]   \n",
      "986        987                                         [nan, nan]   \n",
      "987        988                                         [nan, nan]   \n",
      "988        989                                         [nan, nan]   \n",
      "989        990                                         [nan, nan]   \n",
      "990        991                                         [nan, nan]   \n",
      "991        992                                         [nan, nan]   \n",
      "992        993                                         [nan, nan]   \n",
      "993        994                                         [nan, nan]   \n",
      "994        995                                         [nan, nan]   \n",
      "995        996                                         [nan, nan]   \n",
      "996        997                                         [nan, nan]   \n",
      "997        998                                         [nan, nan]   \n",
      "998        999                                         [nan, nan]   \n",
      "999       1000                                         [nan, nan]   \n",
      "\n",
      "          GradNorm                                                P_k  \n",
      "0     2.000000e+00                                        [2.0, -0.0]  \n",
      "1     2.441311e+00                          [1.4, 2.0000000000000004]  \n",
      "2     1.563300e+01           [6.494800000000002, -14.220000000000008]  \n",
      "3     2.400682e+02           [-168.34247834736976, 171.1535335200001]  \n",
      "4     1.740775e+05            [173731.9260525948, 10963.498051635775]  \n",
      "5     2.614670e+14          [-261467008397566.62, 15063764973.151817]  \n",
      "6     8.937596e+41     [8.93759553661715e+41, 3.4182498194802854e+28]  \n",
      "7    3.569703e+124  [-3.5697030946777733e+124, 3.994030698807941e+83]  \n",
      "8              inf                      [inf, 6.371390092076036e+248]  \n",
      "9              inf                                        [-inf, inf]  \n",
      "10             NaN                                         [nan, nan]  \n",
      "11             NaN                                         [nan, nan]  \n",
      "12             NaN                                         [nan, nan]  \n",
      "13             NaN                                         [nan, nan]  \n",
      "14             NaN                                         [nan, nan]  \n",
      "15             NaN                                         [nan, nan]  \n",
      "16             NaN                                         [nan, nan]  \n",
      "17             NaN                                         [nan, nan]  \n",
      "18             NaN                                         [nan, nan]  \n",
      "19             NaN                                         [nan, nan]  \n",
      "20             NaN                                         [nan, nan]  \n",
      "21             NaN                                         [nan, nan]  \n",
      "22             NaN                                         [nan, nan]  \n",
      "23             NaN                                         [nan, nan]  \n",
      "24             NaN                                         [nan, nan]  \n",
      "25             NaN                                         [nan, nan]  \n",
      "26             NaN                                         [nan, nan]  \n",
      "27             NaN                                         [nan, nan]  \n",
      "28             NaN                                         [nan, nan]  \n",
      "29             NaN                                         [nan, nan]  \n",
      "..             ...                                                ...  \n",
      "970            NaN                                         [nan, nan]  \n",
      "971            NaN                                         [nan, nan]  \n",
      "972            NaN                                         [nan, nan]  \n",
      "973            NaN                                         [nan, nan]  \n",
      "974            NaN                                         [nan, nan]  \n",
      "975            NaN                                         [nan, nan]  \n",
      "976            NaN                                         [nan, nan]  \n",
      "977            NaN                                         [nan, nan]  \n",
      "978            NaN                                         [nan, nan]  \n",
      "979            NaN                                         [nan, nan]  \n",
      "980            NaN                                         [nan, nan]  \n",
      "981            NaN                                         [nan, nan]  \n",
      "982            NaN                                         [nan, nan]  \n",
      "983            NaN                                         [nan, nan]  \n",
      "984            NaN                                         [nan, nan]  \n",
      "985            NaN                                         [nan, nan]  \n",
      "986            NaN                                         [nan, nan]  \n",
      "987            NaN                                         [nan, nan]  \n",
      "988            NaN                                         [nan, nan]  \n",
      "989            NaN                                         [nan, nan]  \n",
      "990            NaN                                         [nan, nan]  \n",
      "991            NaN                                         [nan, nan]  \n",
      "992            NaN                                         [nan, nan]  \n",
      "993            NaN                                         [nan, nan]  \n",
      "994            NaN                                         [nan, nan]  \n",
      "995            NaN                                         [nan, nan]  \n",
      "996            NaN                                         [nan, nan]  \n",
      "997            NaN                                         [nan, nan]  \n",
      "998            NaN                                         [nan, nan]  \n",
      "999            NaN                                         [nan, nan]  \n",
      "\n",
      "[1000 rows x 4 columns]\n"
     ]
    },
    {
     "name": "stderr",
     "output_type": "stream",
     "text": [
      "C:\\Users\\RRCP\\AppData\\Local\\Continuum\\anaconda3\\lib\\site-packages\\ipykernel_launcher.py:4: RuntimeWarning: overflow encountered in multiply\n",
      "  after removing the cwd from sys.path.\n",
      "C:\\Users\\RRCP\\AppData\\Local\\Continuum\\anaconda3\\lib\\site-packages\\ipykernel_launcher.py:35: RuntimeWarning: invalid value encountered in subtract\n"
     ]
    }
   ],
   "source": [
    "# Llamamos a nuestra función de gradiente en descenso con los parámetros especificados\n",
    "x0 = np.array([0, 0.]).reshape(-1, 1)\n",
    "gdResult = gradientDescent_fn(f, grad_f, x0, alfa=0.05, N=1000, eps=1e-8)\n",
    "print(gdResult)"
   ]
  },
  {
   "cell_type": "markdown",
   "metadata": {},
   "source": [
    "Como podemos observar, el algoritmo no converge. Esto se debe posiblemente al tamaño del paso $\\alpha_k = 0.05$, así como a la escala pobre del problema. Es por esto que la función es utilizada como *benchmark* (marco de referencia) para la prueba de algoritmos de optimización.\n",
    "\n",
    "### Modificación hacia la convergencia\n",
    "Después de variar el punto inicial y disminuir el tamaño del paso (*learning rate*), podemos ver que el algoritmo empieza a converger a la solución global, aunque muy lentamente."
   ]
  },
  {
   "cell_type": "code",
   "execution_count": 62,
   "metadata": {},
   "outputs": [
    {
     "name": "stdout",
     "output_type": "stream",
     "text": [
      "     Iteracion                                       X_k    GradNorm  \\\n",
      "0            1                                [0.9, 1.1]  119.604181   \n",
      "1            2                         [0.91046, 1.0942]  110.370330   \n",
      "2            3  [0.9201383470493866, 1.0888947482320002]  101.611170   \n",
      "3            4   [0.929070098183671, 1.0840499448215757]   93.341877   \n",
      "4            5  [0.9372927558903064, 1.0796323708719244]   85.569695   \n",
      "5            6  [0.9448454299195073, 1.0756100776593749]   78.294841   \n",
      "6            7   [0.9517680879679374, 1.071952533834983]   71.511467   \n",
      "7            8   [0.9581009023637481, 1.068630733023766]   65.208647   \n",
      "8            9  [0.9638836947701062, 1.0656172651454954]   59.371335   \n",
      "9           10  [0.9691554768141831, 1.0628863553834589]   53.981261   \n",
      "10          11   [0.973954081450076, 1.0604138750405683]   49.017759   \n",
      "11          12   [0.9783158777113811, 1.058177328595222]   44.458495   \n",
      "12          13  [0.9822755601872761, 1.0561558211549613]   40.280109   \n",
      "13          14  [0.9858660039249654, 1.0543300102546866]   36.458753   \n",
      "14          15  [0.9891181753747451, 1.0526820456034924]   32.970542   \n",
      "15          16   [0.9920610903121849, 1.051195499988556]   29.791916   \n",
      "16          17   [0.9947218102706129, 1.049855294127013]   26.899928   \n",
      "17          18  [0.9971254697913793, 1.0486476178410336]   24.272460   \n",
      "18          19  [0.9992953276650801, 1.0475598495343466]   21.888383   \n",
      "19          20   [1.0012528362297304, 1.046580475581525]   19.727665   \n",
      "20          21    [1.003017723665171, 1.045699010911056]   17.771437   \n",
      "21          22   [1.0046080850451453, 1.044905921772564]   16.002027   \n",
      "22          23    [1.00604047865995, 1.0441925514278743]   14.402966   \n",
      "23          24   [1.007330024793147, 1.0435510492933635]   12.958970   \n",
      "24          25   [1.008490504722225, 1.0429743038844914]   11.655910   \n",
      "25          26  [1.0095344582168644, 1.0424558797690993]   10.480771   \n",
      "26          27  [1.0104732782343482, 1.0419899586202617]    9.421592   \n",
      "27          28  [1.0113173018663442, 1.0415712843683698]    8.467419   \n",
      "28          29  [1.0120758968823818, 1.0411951123820868]    7.608233   \n",
      "29          30  [1.0127575434507934, 1.0408571625554506]    6.834899   \n",
      "..         ...                                       ...         ...   \n",
      "970        971   [1.0180729817365215, 1.036544134696324]    0.015934   \n",
      "971        972   [1.018072280398951, 1.0365427039252353]    0.015934   \n",
      "972        973   [1.0180715790878194, 1.036541273209065]    0.015933   \n",
      "973        974  [1.0180708778031258, 1.0365398425478112]    0.015932   \n",
      "974        975  [1.0180701765448692, 1.0365384119414716]    0.015932   \n",
      "975        976  [1.0180694753130488, 1.0365369813900442]    0.015931   \n",
      "976        977   [1.0180687741076635, 1.036535550893527]    0.015931   \n",
      "977        978   [1.0180680729287124, 1.036534120451918]    0.015930   \n",
      "978        979  [1.0180673717761946, 1.0365326900652154]    0.015929   \n",
      "979        980  [1.0180666706501091, 1.0365312597334169]    0.015929   \n",
      "980        981   [1.018065969550455, 1.0365298294565204]    0.015928   \n",
      "981        982  [1.0180652684772316, 1.0365283992345242]    0.015927   \n",
      "982        983  [1.0180645674304376, 1.0365269690674261]    0.015927   \n",
      "983        984  [1.0180638664100723, 1.0365255389552241]    0.015926   \n",
      "984        985  [1.0180631654161345, 1.0365241088979162]    0.015926   \n",
      "985        986  [1.0180624644486236, 1.0365226788955002]    0.015925   \n",
      "986        987  [1.0180617635075384, 1.0365212489479743]    0.015924   \n",
      "987        988   [1.018061062592878, 1.0365198190553364]    0.015924   \n",
      "988        989  [1.0180603617046415, 1.0365183892175844]    0.015923   \n",
      "989        990   [1.018059660842828, 1.0365169594347166]    0.015923   \n",
      "990        991  [1.0180589600074366, 1.0365155297067306]    0.015922   \n",
      "991        992  [1.0180582591984662, 1.0365141000336244]    0.015921   \n",
      "992        993   [1.018057558415916, 1.0365126704153962]    0.015921   \n",
      "993        994   [1.018056857659785, 1.0365112408520438]    0.015920   \n",
      "994        995  [1.0180561569300723, 1.0365098113435653]    0.015920   \n",
      "995        996  [1.0180554562267772, 1.0365083818899585]    0.015919   \n",
      "996        997  [1.0180547555498984, 1.0365069524912216]    0.015918   \n",
      "997        998   [1.018054054899435, 1.0365055231473523]    0.015918   \n",
      "998        999   [1.0180533542753862, 1.036504093858349]    0.015917   \n",
      "999       1000   [1.018052653677751, 1.0365026646242093]    0.015917   \n",
      "\n",
      "                                                 P_k  \n",
      "0           [104.60000000000002, -58.00000000000001]  \n",
      "1            [96.78347049386558, -53.05251767999999]  \n",
      "2            [89.31751134284502, -48.44803410424456]  \n",
      "3             [82.22657706635383, -44.1757394965119]  \n",
      "4            [75.52674029200877, -40.22293212549579]  \n",
      "5           [69.22658048430155, -36.575438243919265]  \n",
      "6           [63.328143958107056, -33.21800811216789]  \n",
      "7            [57.8279240635801, -30.134678782707546]  \n",
      "8            [52.71782044076934, -27.30909762036484]  \n",
      "9            [47.98604635892917, -24.72480342890644]  \n",
      "10          [43.61796261305048, -22.365464453461392]  \n",
      "11          [39.59682475895082, -20.215074402606437]  \n",
      "12           [35.90443737689247, -18.25810900274685]  \n",
      "13           [32.52171449779732, -16.47964651194136]  \n",
      "14         [29.429149374397834, -14.865456149365475]  \n",
      "15         [26.607199584280167, -13.402058615430978]  \n",
      "16          [24.03659520766427, -12.076762859793554]  \n",
      "17          [21.69857873700807, -10.877683066870937]  \n",
      "18          [19.575085646502618, -9.793739528217337]  \n",
      "19            [17.648874354406555, -8.8146467046891]  \n",
      "20          [15.903613799743871, -7.930891384918937]  \n",
      "21          [14.323936148046078, -7.133703446898032]  \n",
      "22          [12.895461331969841, -6.415021345106631]  \n",
      "23          [11.604799290781626, -5.767454088720303]  \n",
      "24           [10.43953494639387, -5.184241153920643]  \n",
      "25            [9.38820017483777, -4.659211488376291]  \n",
      "26             [8.4402363199602, -4.186742518918241]  \n",
      "27          [7.585950160374871, -3.7617198628295156]  \n",
      "28            [6.816465684116544, -3.37949826636188]  \n",
      "29          [6.123673546236762, -3.0358641477929993]  \n",
      "..                                               ...  \n",
      "970   [-0.007013375705031844, -0.014307710886463099]  \n",
      "971   [-0.007013111315955015, -0.014307161702964422]  \n",
      "972    [-0.007012846936045033, -0.01430661253980503]  \n",
      "973    [-0.007012582565662017, -0.01430606339680729]  \n",
      "974    [-0.00701231820453312, -0.014305514274104425]  \n",
      "975   [-0.007012053852928031, -0.014304965171563211]  \n",
      "976   [-0.007011789510754308, -0.014304416089228056]  \n",
      "977    [-0.00701152517782953, -0.014303867027187778]  \n",
      "978    [-0.00701126085424254, -0.014303317985397968]  \n",
      "979   [-0.007010996540082179, -0.014302768963814216]  \n",
      "980   [-0.007010732235256011, -0.014302219962480933]  \n",
      "981      [-0.00701046793994374, -0.0143016709813093]  \n",
      "982  [-0.0070102036538720845, -0.014301122020432544]  \n",
      "983  [-0.0070099393773107276, -0.014300573079717438]  \n",
      "984   [-0.007009675109986388, -0.014300024159297209]  \n",
      "985     [-0.00700941085216919, -0.01429947525903863]  \n",
      "986  [-0.0070091466036762765, -0.014298926379030519]  \n",
      "987   [-0.007008882364506065, -0.014298377519272876]  \n",
      "988     [-0.007008618134656541, -0.0142978286797657]  \n",
      "989   [-0.007008353914126561, -0.014297279860508993]  \n",
      "990   [-0.007008089703004532, -0.014296731061458345]  \n",
      "991   [-0.007007825501288877, -0.014296182282613756]  \n",
      "992  [-0.0070075613088875915, -0.014295633524019635]  \n",
      "993   [-0.007007297125979941, -0.014295084785587164]  \n",
      "994    [-0.007007032952292647, -0.01429453606744957]  \n",
      "995   [-0.007006768788186252, -0.014293987369429217]  \n",
      "996   [-0.007006504633477892, -0.014293438691614924]  \n",
      "997  [-0.0070062404879847155, -0.014292890034095507]  \n",
      "998    [-0.00700597635188642, -0.014292341396782149]  \n",
      "999    [-0.007005712225180986, -0.01429179277967485]  \n",
      "\n",
      "[1000 rows x 4 columns]\n"
     ]
    }
   ],
   "source": [
    "x0 = np.array([0.9, 1.1]).reshape(-1, 1)\n",
    "gdResult = gradientDescent_fn(f, grad_f, x0, alfa=0.0001, N=1000, eps=1e-8)\n",
    "print(gdResult)"
   ]
  }
 ],
 "metadata": {
  "kernelspec": {
   "display_name": "Python 3",
   "language": "python",
   "name": "python3"
  },
  "language_info": {
   "codemirror_mode": {
    "name": "ipython",
    "version": 3
   },
   "file_extension": ".py",
   "mimetype": "text/x-python",
   "name": "python",
   "nbconvert_exporter": "python",
   "pygments_lexer": "ipython3",
   "version": "3.7.2"
  }
 },
 "nbformat": 4,
 "nbformat_minor": 2
}
