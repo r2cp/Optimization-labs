{
 "cells": [
  {
   "cell_type": "markdown",
   "metadata": {},
   "source": [
    "# Laboratorio 1\n",
    "\n",
    "Universidad Galileo\n",
    "Algoritmos en la Ciencia de Datos\n",
    "\n",
    "**Rodrigo Rafael Chang Papa**\n",
    "\n",
    "**Carné: 19000625**"
   ]
  },
  {
   "cell_type": "markdown",
   "metadata": {},
   "source": [
    "## Carga de librerías"
   ]
  },
  {
   "cell_type": "code",
   "execution_count": 4,
   "metadata": {},
   "outputs": [],
   "source": [
    "import pandas as pd\n",
    "import re\n",
    "import numpy as np\n",
    "import matplotlib.pyplot as plt\n",
    "from sklearn.linear_model import LinearRegression"
   ]
  },
  {
   "cell_type": "markdown",
   "metadata": {},
   "source": [
    "## Funciones generales para evaluar polinomios"
   ]
  },
  {
   "cell_type": "code",
   "execution_count": 5,
   "metadata": {},
   "outputs": [],
   "source": [
    "# Función para obtener una cadena de texto con la expresión matemática\n",
    "# a ser evaluada por Python\n",
    "def genFormula(equat):\n",
    "    equat = equat.replace(' ', '')\n",
    "    spliter = re.split(\"([\\+|\\-])\", equat)\n",
    "    #spliter = re.split(\"((\\d*)(x)\\^*\\d*)+([\\+|\\-])*([\\+|\\-]\\d*)\", equat)\n",
    "    #print(spliter)\n",
    "    out = \"\"\n",
    "    for w in spliter:\n",
    "        try:\n",
    "            if(('x' in w) and len(w) >= 2): #Extramos monomios.\n",
    "                varPos = w.index('x')\n",
    "                w = w[:varPos] + \"*\" +  w[varPos:]\n",
    "                w = w.replace('^', '**')\n",
    "                out = out +  '(' + w + ')'\n",
    "            elif(('x' not in w)): #Extraemos numeros sin variable.\n",
    "                out = out +  w       \n",
    "        except:\n",
    "            pass\n",
    "    #print(out)\n",
    "    return out\n",
    "\n",
    "# Función para evaluar la cadena str_equ con el valor valX\n",
    "def evaluate_Fx(str_equ, valX):\n",
    "    strOut = genFormula(str_equ)\n",
    "    #print(strOut)\n",
    "    x = valX\n",
    "    out = eval(strOut)\n",
    "    return out\n",
    "\n",
    "# Función para aproximar una derivada por diferencias finitas\n",
    "def evaluate_derivate_fx(str_equ, x, h):\n",
    "    strOut = genFormula(str_equ)\n",
    "    strOut = strOut.replace(\"x\", '(x + h)')\n",
    "    strOut = \"-4*(\" + strOut + \")\"\n",
    "    out = eval(strOut)\n",
    "\n",
    "    strOut = genFormula(str_equ)\n",
    "    strOut = strOut.replace(\"x\", '(x + 2*h)')\n",
    "    out = out + eval(strOut)\n",
    "\n",
    "    strOut = genFormula(str_equ)\n",
    "    strOut = strOut.replace(\"x\", '(x)')\n",
    "    strOut = \"3*(\" + strOut + \")\"\n",
    "    out = out + eval(strOut)\n",
    "\n",
    "    out = -out/(2*h)\n",
    "\n",
    "    return out"
   ]
  },
  {
   "cell_type": "markdown",
   "metadata": {},
   "source": [
    "## Algoritmo de Newton\n"
   ]
  },
  {
   "cell_type": "code",
   "execution_count": 6,
   "metadata": {},
   "outputs": [],
   "source": [
    "# Método de Newton con punto inicial x0 para resolver \n",
    "# f(x)=genFormula(strIn) con precisión eps\n",
    "def newtonSolverX(x0, strIn, eps):\n",
    "    xn = x0\n",
    "    error = 1e10\n",
    "    \n",
    "    # Listas para guardar iteradores\n",
    "    arrayIters = []\n",
    "    arrayF_x = []\n",
    "    arrayf_x = []\n",
    "    arrayXn = []\n",
    "    arrayErr = []\n",
    "\n",
    "    i = 0\n",
    "    h = 1e-6\n",
    "    while(error > eps):\n",
    "        F_x = evaluate_Fx(strIn, xn)\n",
    "        f_x = evaluate_derivate_fx(strIn, xn, h)\n",
    "        x_n1 = xn - F_x/f_x\n",
    "\n",
    "        error = abs(evaluate_Fx(strIn, xn))\n",
    "        i = i + 1\n",
    "        xn = x_n1\n",
    "        \n",
    "        arrayIters.append(i)\n",
    "        arrayXn.append(xn)\n",
    "        arrayErr.append(error)\n",
    "        arrayF_x.append(F_x)\n",
    "        arrayf_x.append(f_x)\n",
    "        \n",
    "        # Guardar la solución\n",
    "        solution = [i, xn, error]\n",
    "\n",
    "    print(\"Algoritmo terminado...\")\n",
    "    TableOut = pd.DataFrame({'Iter':arrayIters, 'Xn':arrayXn, 'Error': arrayErr, 'F(x)':arrayF_x, \"f'(x)\":arrayf_x})\n",
    "    return TableOut, solution"
   ]
  },
  {
   "cell_type": "markdown",
   "metadata": {},
   "source": [
    "## Ejemplo de utilización"
   ]
  },
  {
   "cell_type": "code",
   "execution_count": 7,
   "metadata": {},
   "outputs": [
    {
     "name": "stdout",
     "output_type": "stream",
     "text": [
      "Ingrese función: -3x^4+5x^3-4x^2-12x\n",
      "Valor inicial: 5\n",
      "Algoritmo terminado...\n"
     ]
    }
   ],
   "source": [
    "#-3x^4+5x^3-4x^2-12x\n",
    "#16x^3-4\n",
    "\n",
    "# Obtener la función y el valor inicial\n",
    "ecuacion = input(\"Ingrese función: \")\n",
    "x0 = float(input(\"Valor inicial: \"))\n",
    "\n",
    "# Ejecutar el algoritmo de Newton\n",
    "tableOut, soluc = newtonSolverX(x0, ecuacion, 1e-7)"
   ]
  },
  {
   "cell_type": "code",
   "execution_count": 9,
   "metadata": {},
   "outputs": [
    {
     "name": "stdout",
     "output_type": "stream",
     "text": [
      "   Iter            Xn         Error          F(x)        f'(x)\n",
      "0     1  3.802039e+00  1.410000e+03 -1.410000e+03 -1177.000000\n",
      "1     2  2.863014e+00  4.555291e+02 -4.555291e+02  -485.108360\n",
      "2     3  2.080997e+00  1.513700e+02 -1.513700e+02  -193.563613\n",
      "3     4  1.336262e+00  5.349579e+01 -5.349579e+01   -71.832014\n",
      "4     5  4.881044e-01  2.081247e+01 -2.081247e+01   -24.538444\n",
      "5     6  2.192419e-02  6.399075e+00 -6.399075e+00   -13.726613\n",
      "6     7  1.495176e-04  2.649610e-01 -2.649610e-01   -12.168310\n",
      "7     8  7.448314e-09  1.794301e-03 -1.794301e-03   -12.001196\n",
      "8     9  1.849867e-17  8.937977e-08 -8.937977e-08   -12.000000\n"
     ]
    }
   ],
   "source": [
    "# Mostrar la tabla de resultados\n",
    "print(tableOut)"
   ]
  },
  {
   "cell_type": "code",
   "execution_count": 11,
   "metadata": {},
   "outputs": [
    {
     "name": "stdout",
     "output_type": "stream",
     "text": [
      "Solución:  1.8498666863719435e-17\n"
     ]
    }
   ],
   "source": [
    "# Mostrar la solución\n",
    "print(\"Solución: \", soluc[1])"
   ]
  },
  {
   "cell_type": "markdown",
   "metadata": {},
   "source": [
    "***\n",
    "## Encontrar la tasa de convergencia"
   ]
  },
  {
   "cell_type": "code",
   "execution_count": 26,
   "metadata": {},
   "outputs": [
    {
     "data": {
      "text/plain": [
       "array([3.80203899e+00, 2.86301350e+00, 2.08099656e+00, 1.33626189e+00,\n",
       "       4.88104318e-01, 2.19241014e-02, 1.49428255e-04, 8.19314522e-08,\n",
       "       8.93797660e-08])"
      ]
     },
     "execution_count": 26,
     "metadata": {},
     "output_type": "execute_result"
    }
   ],
   "source": [
    "# Valor límite de sucesión\n",
    "x_star = soluc[2]\n",
    "\n",
    "# Obtener los errores en k y los errores en k+1\n",
    "err = np.abs(tableOut['Xn'].values - x_star)\n",
    "e_k = err[:-1]\n",
    "e_k_1 = err[1:]\n",
    "err"
   ]
  },
  {
   "cell_type": "code",
   "execution_count": 29,
   "metadata": {},
   "outputs": [
    {
     "data": {
      "image/png": "[encoded data removed]",
      "text/plain": [
       "<Figure size 432x288 with 1 Axes>"
      ]
     },
     "metadata": {
      "needs_background": "light"
     },
     "output_type": "display_data"
    }
   ],
   "source": [
    "plt.plot(e_k, e_k_1, 'bo')\n",
    "plt.title(\"Orden de Convergencia\")\n",
    "plt.xlabel(\"Error\")\n",
    "plt.ylabel(\"Error Siguiente\")\n",
    "plt.show()"
   ]
  },
  {
   "cell_type": "code",
   "execution_count": 34,
   "metadata": {},
   "outputs": [
    {
     "name": "stdout",
     "output_type": "stream",
     "text": [
      "Tasa de convergencia r=1.10 con constante C=0.15\n"
     ]
    }
   ],
   "source": [
    "# Efectuamos una regresión lineal en logaritmos\n",
    "# para estimar la tasa de convergencia\n",
    "modelo = LinearRegression()  \n",
    "modelo.fit(np.log(e_k).reshape(-1, 1), \n",
    "           np.log(e_k_1).reshape(-1, 1))\n",
    "\n",
    "# Obtenemos la tasa de convergencia y la constante\n",
    "# a partir de los coeficientes del modelo\n",
    "r = modelo.coef_\n",
    "C = np.exp(modelo.intercept_)\n",
    "print(\"Tasa de convergencia r=%0.2f con constante C=%0.2f\" % (r, C))"
   ]
  },
  {
   "cell_type": "markdown",
   "metadata": {},
   "source": [
    "***\n",
    "## Ejercicio 3 - problema de optimización"
   ]
  },
  {
   "cell_type": "code",
   "execution_count": 36,
   "metadata": {},
   "outputs": [
    {
     "name": "stdout",
     "output_type": "stream",
     "text": [
      "Algoritmo terminado...\n"
     ]
    }
   ],
   "source": [
    "# Minimizar 4x^4-4x+1\n",
    "# Por lo tanto, queremos resolver 16x^3-4 = 0\n",
    "# Utilizamos nuestra función de Newton:\n",
    "\n",
    "tableOut, soluc = newtonSolverX(0.1, \"16x^3-4\", 1e-7)"
   ]
  },
  {
   "cell_type": "code",
   "execution_count": 38,
   "metadata": {},
   "outputs": [
    {
     "name": "stdout",
     "output_type": "stream",
     "text": [
      "    Iter        Xn         Error          F(x)        f'(x)\n",
      "0      1  8.400000  3.984000e+00 -3.984000e+00     0.480000\n",
      "1      2  5.601181  9.479264e+03  9.479264e+03  3386.879998\n",
      "2      3  3.736777  2.807634e+03  2.807634e+03  1505.914986\n",
      "3      4  2.497153  8.308558e+02  8.308558e+02   670.248068\n",
      "4      5  1.678132  2.451467e+02  2.451467e+02   299.316995\n",
      "5      6  1.148346  7.161334e+01  7.161334e+01   135.174114\n",
      "6      7  0.828758  2.022917e+01  2.022917e+01    63.297552\n",
      "7      8  0.673834  5.107575e+00  5.107575e+00    32.968290\n",
      "8      9  0.632755  8.952906e-01  8.952906e-01    21.794499\n",
      "9     10  0.629973  5.347024e-02  5.347024e-02    19.218194\n",
      "10    11  0.629961  2.347681e-04  2.347681e-04    19.049558\n",
      "11    12  0.629961  4.592716e-09  4.592716e-09    19.048813\n"
     ]
    }
   ],
   "source": [
    "# Mostrar la tabla de resultados\n",
    "print(tableOut)"
   ]
  },
  {
   "cell_type": "code",
   "execution_count": 39,
   "metadata": {},
   "outputs": [
    {
     "name": "stdout",
     "output_type": "stream",
     "text": [
      "Solución:  0.6299605249474366\n"
     ]
    }
   ],
   "source": [
    "# Mostrar la solución\n",
    "print(\"Solución: \", soluc[1])"
   ]
  },
  {
   "cell_type": "markdown",
   "metadata": {},
   "source": [
    "Esta solución corresponde a un mínimo global, porque la función $g$ es estrictamente convexa. Por lo tanto, al haber encontrado un punto estacionario en la función, tenemos las condiciones necesarias y suficientes para clasificar a este punto estacionario como un minimizador **global**."
   ]
  },
  {
   "cell_type": "code",
   "execution_count": null,
   "metadata": {},
   "outputs": [],
   "source": []
  }
 ],
 "metadata": {
  "kernelspec": {
   "display_name": "Python 3",
   "language": "python",
   "name": "python3"
  },
  "language_info": {
   "codemirror_mode": {
    "name": "ipython",
    "version": 3
   },
   "file_extension": ".py",
   "mimetype": "text/x-python",
   "name": "python",
   "nbconvert_exporter": "python",
   "pygments_lexer": "ipython3",
   "version": "3.7.2"
  }
 },
 "nbformat": 4,
 "nbformat_minor": 2
}
