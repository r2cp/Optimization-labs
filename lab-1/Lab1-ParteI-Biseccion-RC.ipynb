{
 "cells": [
  {
   "cell_type": "markdown",
   "metadata": {},
   "source": [
    "# Laboratorio 1\n",
    "\n",
    "Universidad Galileo\n",
    "Algoritmos en la Ciencia de Datos\n",
    "\n",
    "**Rodrigo Rafael Chang Papa**\n",
    "\n",
    "**Carné: 19000625**"
   ]
  },
  {
   "cell_type": "markdown",
   "metadata": {},
   "source": [
    "## Carga de librerías"
   ]
  },
  {
   "cell_type": "code",
   "execution_count": 1,
   "metadata": {},
   "outputs": [],
   "source": [
    "import pandas as pd\n",
    "import re\n",
    "import numpy as np\n",
    "import matplotlib.pyplot as plt\n",
    "from sklearn.linear_model import LinearRegression"
   ]
  },
  {
   "cell_type": "markdown",
   "metadata": {},
   "source": [
    "## Funciones generales para evaluar polinomios"
   ]
  },
  {
   "cell_type": "code",
   "execution_count": 3,
   "metadata": {},
   "outputs": [],
   "source": [
    "# Función para obtener una cadena de texto con la expresión matemática\n",
    "# a ser evaluada por Python\n",
    "def genFormula(equat):\n",
    "    equat = equat.replace(' ', '')\n",
    "    spliter = re.split(\"([\\+|\\-])\", equat)\n",
    "    #spliter = re.split(\"((\\d*)(x)\\^*\\d*)+([\\+|\\-])*([\\+|\\-]\\d*)\", equat)\n",
    "    #print(spliter)\n",
    "    out = \"\"\n",
    "    for w in spliter:\n",
    "        try:\n",
    "            if(('x' in w) and len(w) >= 2): #Extramos monomios.\n",
    "                varPos = w.index('x')\n",
    "                w = w[:varPos] + \"*\" +  w[varPos:]\n",
    "                w = w.replace('^', '**')\n",
    "                out = out +  '(' + w + ')'\n",
    "            elif(('x' not in w)): #Extraemos numeros sin variable.\n",
    "                out = out +  w       \n",
    "        except:\n",
    "            pass\n",
    "    #print(out)\n",
    "    return out\n",
    "\n",
    "# Función para evaluar la cadena str_equ con el valor valX\n",
    "def evaluate_Fx(str_equ, valX):\n",
    "    strOut = genFormula(str_equ)\n",
    "    #print(strOut)\n",
    "    x = valX\n",
    "    out = eval(strOut)\n",
    "    return out\n",
    "\n",
    "# Función para aproximar una derivada por diferencias finitas\n",
    "def evaluate_derivate_fx(str_equ, x, h):\n",
    "    strOut = genFormula(str_equ)\n",
    "    strOut = strOut.replace(\"x\", '(x + h)')\n",
    "    strOut = \"-4*(\" + strOut + \")\"\n",
    "    out = eval(strOut)\n",
    "\n",
    "    strOut = genFormula(str_equ)\n",
    "    strOut = strOut.replace(\"x\", '(x + 2*h)')\n",
    "    out = out + eval(strOut)\n",
    "\n",
    "    strOut = genFormula(str_equ)\n",
    "    strOut = strOut.replace(\"x\", '(x)')\n",
    "    strOut = \"3*(\" + strOut + \")\"\n",
    "    out = out + eval(strOut)\n",
    "\n",
    "    out = -out/(2*h)\n",
    "\n",
    "    return out"
   ]
  },
  {
   "cell_type": "markdown",
   "metadata": {},
   "source": [
    "## Algoritmo de bisección"
   ]
  },
  {
   "cell_type": "code",
   "execution_count": 47,
   "metadata": {},
   "outputs": [],
   "source": [
    "# Método de bisección con límites a y b\n",
    "# hasta N iteraciones como máximo\n",
    "def biseccionSolverX(f_str, a, b, N=1000, eps=1e-6):\n",
    "    \n",
    "    # Obtenemos una función evaluable\n",
    "    f = lambda x : evaluate_Fx(f_str, x)\n",
    "    \n",
    "    if f(a)*f(b) >= 0:\n",
    "        print(\"No es posible aplicar el método de bisección.\")\n",
    "        return None\n",
    "    \n",
    "    # Se inicializan los límites\n",
    "    a_n = a\n",
    "    b_n = b\n",
    "    \n",
    "    # Listas para guardar iteradores\n",
    "    arrayIters = []\n",
    "    arrayXn = []\n",
    "    arrayF_x = []\n",
    "    arrayErr = []\n",
    "    \n",
    "    # Se inician las iteraciones\n",
    "    for n in range(1, N+1):\n",
    "        \n",
    "        # Se obtiene punto medio y se evalua\n",
    "        m_n = (a_n + b_n)/2\n",
    "        f_m_n = f(m_n)\n",
    "        # Si hay cambio de signo en el primer segmento:\n",
    "        if abs(f_m_n) < eps:\n",
    "            print(\"Se encontró solución.\")\n",
    "            break\n",
    "        elif f(a_n)*f_m_n < 0:\n",
    "            a_n = a_n\n",
    "            b_n = m_n\n",
    "        # Si hay cambio de signo en el segundo segmento:\n",
    "        elif f(b_n)*f_m_n < 0:\n",
    "            a_n = m_n\n",
    "            b_n = b_n\n",
    "        else:\n",
    "            continue\n",
    "            \n",
    "        # Guardar resultados\n",
    "        arrayIters.append(n)\n",
    "        arrayXn.append(m_n)\n",
    "        arrayErr.append(abs(f_m_n))\n",
    "        arrayF_x.append(f_m_n)\n",
    "\n",
    "    # Termina algoritmo\n",
    "    print(\"Algoritmo terminado...\")\n",
    "    solution = [n, m_n, abs(f_m_n)]\n",
    "    \n",
    "    # Crear un dataframe con los resultados\n",
    "    TableOut = pd.DataFrame({'Iter':arrayIters, 'Xn':arrayXn, 'Error': arrayErr, 'F(x)':arrayF_x})\n",
    "    return TableOut, solution"
   ]
  },
  {
   "cell_type": "markdown",
   "metadata": {},
   "source": [
    "## Ejemplo de utilización"
   ]
  },
  {
   "cell_type": "code",
   "execution_count": 48,
   "metadata": {},
   "outputs": [
    {
     "name": "stdout",
     "output_type": "stream",
     "text": [
      "Ingrese función: 1x^2-1x-1\n",
      "Valor inicial a: 1\n",
      "Valor inicial b: 2\n",
      "Se encontró solución.\n",
      "Algoritmo terminado...\n"
     ]
    }
   ],
   "source": [
    "#-3x^4+5x^3-4x^2-12x\n",
    "#16x^3-4\n",
    "\n",
    "# Obtener la función y el valor inicial\n",
    "ecuacion = input(\"Ingrese función: \")\n",
    "a = float(input(\"Valor inicial a: \"))\n",
    "b = float(input(\"Valor inicial b: \"))\n",
    "\n",
    "# Ejecutar el algoritmo de Newton\n",
    "tableOut, soluc = biseccionSolverX(ecuacion, a, b, N=25, eps=1e-6)"
   ]
  },
  {
   "cell_type": "code",
   "execution_count": 49,
   "metadata": {},
   "outputs": [
    {
     "name": "stdout",
     "output_type": "stream",
     "text": [
      "    Iter        Xn     Error      F(x)\n",
      "0      1  1.500000  0.250000 -0.250000\n",
      "1      2  1.750000  0.312500  0.312500\n",
      "2      3  1.625000  0.015625  0.015625\n",
      "3      4  1.562500  0.121094 -0.121094\n",
      "4      5  1.593750  0.053711 -0.053711\n",
      "5      6  1.609375  0.019287 -0.019287\n",
      "6      7  1.617188  0.001892 -0.001892\n",
      "7      8  1.621094  0.006851  0.006851\n",
      "8      9  1.619141  0.002476  0.002476\n",
      "9     10  1.618164  0.000291  0.000291\n",
      "10    11  1.617676  0.000801 -0.000801\n",
      "11    12  1.617920  0.000255 -0.000255\n",
      "12    13  1.618042  0.000018  0.000018\n",
      "13    14  1.617981  0.000119 -0.000119\n",
      "14    15  1.618011  0.000050 -0.000050\n",
      "15    16  1.618027  0.000016 -0.000016\n"
     ]
    }
   ],
   "source": [
    "# Mostrar la tabla de resultados\n",
    "print(tableOut)"
   ]
  },
  {
   "cell_type": "code",
   "execution_count": 50,
   "metadata": {},
   "outputs": [
    {
     "name": "stdout",
     "output_type": "stream",
     "text": [
      "Solución:  1.6180343627929688\n"
     ]
    }
   ],
   "source": [
    "# Mostrar la solución\n",
    "print(\"Solución: \", soluc[1])"
   ]
  },
  {
   "cell_type": "markdown",
   "metadata": {},
   "source": [
    "***\n",
    "## Encontrar la tasa de convergencia"
   ]
  },
  {
   "cell_type": "code",
   "execution_count": 59,
   "metadata": {},
   "outputs": [
    {
     "data": {
      "text/plain": [
       "array([0.49999994, 0.74999994, 0.62499994, 0.68749994, 0.65624994,\n",
       "       0.64062494, 0.63281244, 0.62890619, 0.63085932, 0.62988276,\n",
       "       0.63037104, 0.6301269 , 0.63000483, 0.62994379, 0.62997431,\n",
       "       0.62995905, 0.62996668, 0.62996287, 0.62996096, 0.62996001,\n",
       "       0.62996048, 0.62996024, 0.62996036, 0.62996042, 0.62996045])"
      ]
     },
     "execution_count": 59,
     "metadata": {},
     "output_type": "execute_result"
    }
   ],
   "source": [
    "# Valor límite de sucesión\n",
    "x_star = soluc[2]\n",
    "\n",
    "# Obtener los errores en k y los errores en k+1\n",
    "err = np.abs(tableOut['Xn'].values - x_star)\n",
    "e_k = err[:-1]\n",
    "e_k_1 = err[1:]\n",
    "err"
   ]
  },
  {
   "cell_type": "code",
   "execution_count": 60,
   "metadata": {},
   "outputs": [
    {
     "data": {
      "image/png": "[encoded data removed]",
      "text/plain": [
       "<Figure size 432x288 with 1 Axes>"
      ]
     },
     "metadata": {
      "needs_background": "light"
     },
     "output_type": "display_data"
    }
   ],
   "source": [
    "plt.plot(e_k, e_k_1, 'bo')\n",
    "plt.title(\"Orden de Convergencia\")\n",
    "plt.xlabel(\"Error\")\n",
    "plt.ylabel(\"Error Siguiente\")\n",
    "plt.show()"
   ]
  },
  {
   "cell_type": "code",
   "execution_count": 61,
   "metadata": {},
   "outputs": [
    {
     "name": "stdout",
     "output_type": "stream",
     "text": [
      "Tasa de convergencia r=-0.42 con constante C=0.53\n"
     ]
    }
   ],
   "source": [
    "# Efectuamos una regresión lineal en logaritmos\n",
    "# para estimar la tasa de convergencia\n",
    "modelo = LinearRegression()  \n",
    "modelo.fit(np.log(e_k).reshape(-1, 1), \n",
    "           np.log(e_k_1).reshape(-1, 1))\n",
    "\n",
    "# Obtenemos la tasa de convergencia y la constante\n",
    "# a partir de los coeficientes del modelo\n",
    "r = modelo.coef_\n",
    "C = np.exp(modelo.intercept_)\n",
    "print(\"Tasa de convergencia r=%0.2f con constante C=%0.2f\" % (r, C))"
   ]
  },
  {
   "cell_type": "markdown",
   "metadata": {},
   "source": [
    "***\n",
    "## Ejercicio 3 - problema de optimización"
   ]
  },
  {
   "cell_type": "code",
   "execution_count": 57,
   "metadata": {},
   "outputs": [
    {
     "name": "stdout",
     "output_type": "stream",
     "text": [
      "Se encontró solución.\n",
      "Algoritmo terminado...\n"
     ]
    }
   ],
   "source": [
    "# Minimizar 4x^4-4x+1\n",
    "# Por lo tanto, queremos resolver 16x^3-4 = 0\n",
    "# Utilizamos nuestra función de Newton:\n",
    "\n",
    "tableOut, soluc = biseccionSolverX(\"16x^3-4\", 0, 1, eps=1e-7)"
   ]
  },
  {
   "cell_type": "code",
   "execution_count": 58,
   "metadata": {},
   "outputs": [
    {
     "name": "stdout",
     "output_type": "stream",
     "text": [
      "    Iter        Xn         Error          F(x)\n",
      "0      1  0.500000  2.000000e+00 -2.000000e+00\n",
      "1      2  0.750000  2.750000e+00  2.750000e+00\n",
      "2      3  0.625000  9.375000e-02 -9.375000e-02\n",
      "3      4  0.687500  1.199219e+00  1.199219e+00\n",
      "4      5  0.656250  5.219727e-01  5.219727e-01\n",
      "5      6  0.640625  2.066040e-01  2.066040e-01\n",
      "6      7  0.632812  5.457306e-02  5.457306e-02\n",
      "7      8  0.628906  2.004910e-02 -2.004910e-02\n",
      "8      9  0.630859  1.714647e-02  1.714647e-02\n",
      "9     10  0.629883  1.480147e-03 -1.480147e-03\n",
      "10    11  0.630371  7.825946e-03  7.825946e-03\n",
      "11    12  0.630127  3.171097e-03  3.171097e-03\n",
      "12    13  0.630005  8.450242e-04  8.450242e-04\n",
      "13    14  0.629944  3.176742e-04 -3.176742e-04\n",
      "14    15  0.629974  2.636468e-04  2.636468e-04\n",
      "15    16  0.629959  2.702072e-05 -2.702072e-05\n",
      "16    17  0.629967  1.183113e-04  1.183113e-04\n",
      "17    18  0.629963  4.564485e-05  4.564485e-05\n",
      "18    19  0.629961  9.311953e-06  9.311953e-06\n",
      "19    20  0.629960  8.854411e-06 -8.854411e-06\n",
      "20    21  0.629961  2.287639e-07  2.287639e-07\n",
      "21    22  0.629960  4.312825e-06 -4.312825e-06\n",
      "22    23  0.629960  2.042031e-06 -2.042031e-06\n",
      "23    24  0.629960  9.066338e-07 -9.066338e-07\n",
      "24    25  0.629961  3.389350e-07 -3.389350e-07\n"
     ]
    }
   ],
   "source": [
    "# Mostrar la tabla de resultados\n",
    "print(tableOut)"
   ]
  },
  {
   "cell_type": "code",
   "execution_count": 56,
   "metadata": {},
   "outputs": [
    {
     "name": "stdout",
     "output_type": "stream",
     "text": [
      "Solución:  0.6299605220556259\n"
     ]
    }
   ],
   "source": [
    "# Mostrar la solución\n",
    "print(\"Solución: \", soluc[1])"
   ]
  },
  {
   "cell_type": "markdown",
   "metadata": {},
   "source": [
    "Esta solución corresponde a un mínimo global, porque la función $g$ es estrictamente convexa. Por lo tanto, al haber encontrado un punto estacionario en la función, tenemos las condiciones necesarias y suficientes para clasificar a este punto estacionario como un minimizador **global**."
   ]
  },
  {
   "cell_type": "code",
   "execution_count": null,
   "metadata": {},
   "outputs": [],
   "source": []
  }
 ],
 "metadata": {
  "kernelspec": {
   "display_name": "Python 3",
   "language": "python",
   "name": "python3"
  },
  "language_info": {
   "codemirror_mode": {
    "name": "ipython",
    "version": 3
   },
   "file_extension": ".py",
   "mimetype": "text/x-python",
   "name": "python",
   "nbconvert_exporter": "python",
   "pygments_lexer": "ipython3",
   "version": "3.7.2"
  }
 },
 "nbformat": 4,
 "nbformat_minor": 2
}
