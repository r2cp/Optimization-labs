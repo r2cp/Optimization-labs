{
 "cells": [
  {
   "cell_type": "code",
   "execution_count": 1,
   "metadata": {
    "colab": {},
    "colab_type": "code",
    "id": "PxOyK4Zs0tJE"
   },
   "outputs": [],
   "source": [
    "import pandas as pd\n",
    "import re"
   ]
  },
  {
   "cell_type": "code",
   "execution_count": 4,
   "metadata": {
    "colab": {
     "base_uri": "https://localhost:8080/",
     "height": 51
    },
    "colab_type": "code",
    "id": "GEisXOj3-pUj",
    "outputId": "64f02cf8-63e6-408d-b4dc-83a9117b1ebd"
   },
   "outputs": [
    {
     "name": "stdout",
     "output_type": "stream",
     "text": [
      "['3x^5', '-', '4x']\n",
      "(3*x**5)-(4*x)\n"
     ]
    }
   ],
   "source": [
    "equat = \"3x^5 - 4x\"\n",
    "equat = equat.replace(' ', '')\n",
    "spliter = re.split(\"([\\+|\\-])\", equat)\n",
    "#spliter = re.split(\"((\\d*)(x)\\^*\\d*)+([\\+|\\-])*([\\+|\\-]\\d*)\", equat)\n",
    "print(spliter)\n",
    "out = \"\"\n",
    "for w in spliter:\n",
    "  try:\n",
    "    if(('x' in w) and len(w) >= 2): #Extramos monomios.\n",
    "      varPos = w.index('x')\n",
    "      w = w[:varPos] + \"*\" +  w[varPos:]\n",
    "      w = w.replace('^', '**')\n",
    "      out = out +  '(' + w + ')'\n",
    "    elif(('x' not in w) and len(w) < 2): #Extraemos numeros sin variable.\n",
    "      out = out +  w       \n",
    "  except:\n",
    "    pass\n",
    "print(out)\n",
    "  "
   ]
  },
  {
   "cell_type": "code",
   "execution_count": 5,
   "metadata": {
    "colab": {
     "base_uri": "https://localhost:8080/",
     "height": 34
    },
    "colab_type": "code",
    "id": "iPoEu96y_UtQ",
    "outputId": "379dfaff-f390-48dd-9742-994c5c138c2d"
   },
   "outputs": [
    {
     "data": {
      "text/plain": [
       "True"
      ]
     },
     "execution_count": 5,
     "metadata": {},
     "output_type": "execute_result"
    }
   ],
   "source": [
    "strX = \"44\"\n",
    "strX.isdigit()"
   ]
  },
  {
   "cell_type": "code",
   "execution_count": 2,
   "metadata": {
    "colab": {},
    "colab_type": "code",
    "id": "Y-la3G9mjFyC"
   },
   "outputs": [],
   "source": [
    "def genFormula(equat):\n",
    "    equat = equat.replace(' ', '')\n",
    "    spliter = re.split(\"([\\+|\\-])\", equat)\n",
    "    #spliter = re.split(\"((\\d*)(x)\\^*\\d*)+([\\+|\\-])*([\\+|\\-]\\d*)\", equat)\n",
    "    #print(spliter)\n",
    "    out = \"\"\n",
    "    for w in spliter:\n",
    "        try:\n",
    "            if(('x' in w) and len(w) >= 2): #Extramos monomios.\n",
    "                varPos = w.index('x')\n",
    "                w = w[:varPos] + \"*\" +  w[varPos:]\n",
    "                w = w.replace('^', '**')\n",
    "                out = out +  '(' + w + ')'\n",
    "            elif(('x' not in w)): #Extraemos numeros sin variable.\n",
    "                out = out +  w       \n",
    "        except:\n",
    "            pass\n",
    "    #print(out)\n",
    "    return out"
   ]
  },
  {
   "cell_type": "code",
   "execution_count": 3,
   "metadata": {
    "colab": {
     "base_uri": "https://localhost:8080/",
     "height": 34
    },
    "colab_type": "code",
    "id": "_kBMXh7NyOcV",
    "outputId": "2dd73ca7-4658-4ea1-e3ac-8d00706ea1e7"
   },
   "outputs": [
    {
     "name": "stdout",
     "output_type": "stream",
     "text": [
      "(3*x**5)-(3*x)+12\n"
     ]
    }
   ],
   "source": [
    "#temp = genFormula('4x^2+56x^2-12x')\n",
    "temp = genFormula('3x^5 - 3x + 12')\n",
    "print(temp)"
   ]
  },
  {
   "cell_type": "code",
   "execution_count": 4,
   "metadata": {
    "colab": {},
    "colab_type": "code",
    "id": "wXXbPZNryxs6"
   },
   "outputs": [],
   "source": [
    "def evaluate_Fx(str_equ, valX):\n",
    "    strOut = genFormula(str_equ)\n",
    "    #print(strOut)\n",
    "    x = valX\n",
    "    out = eval(strOut)\n",
    "    return out"
   ]
  },
  {
   "cell_type": "code",
   "execution_count": 11,
   "metadata": {
    "colab": {
     "base_uri": "https://localhost:8080/",
     "height": 34
    },
    "colab_type": "code",
    "id": "VE5gz_TWzCgU",
    "outputId": "e0922188-5390-4d6c-842b-b86bdbb554f5"
   },
   "outputs": [
    {
     "name": "stdout",
     "output_type": "stream",
     "text": [
      "4\n"
     ]
    }
   ],
   "source": [
    "out = evaluate_Fx(\"1x^2\", 2)\n",
    "print(out)"
   ]
  },
  {
   "cell_type": "code",
   "execution_count": 6,
   "metadata": {
    "colab": {},
    "colab_type": "code",
    "id": "aLtkbOnjn6Zl"
   },
   "outputs": [],
   "source": [
    "def evaluate_derivate_fx(str_equ, x, h):\n",
    "    strOut = genFormula(str_equ)\n",
    "    strOut = strOut.replace(\"x\", '(x + h)')\n",
    "    strOut = \"-4*(\" + strOut + \")\"\n",
    "    out = eval(strOut)\n",
    "\n",
    "    strOut = genFormula(str_equ)\n",
    "    strOut = strOut.replace(\"x\", '(x + 2*h)')\n",
    "    out = out + eval(strOut)\n",
    "\n",
    "    strOut = genFormula(str_equ)\n",
    "    strOut = strOut.replace(\"x\", '(x)')\n",
    "    strOut = \"3*(\" + strOut + \")\"\n",
    "    out = out + eval(strOut)\n",
    "\n",
    "    out = -out/(2*h)\n",
    "\n",
    "    return out\n",
    "  "
   ]
  },
  {
   "cell_type": "code",
   "execution_count": 9,
   "metadata": {
    "colab": {
     "base_uri": "https://localhost:8080/",
     "height": 34
    },
    "colab_type": "code",
    "id": "sGGHEnmeO6wZ",
    "outputId": "d51bfd72-4bc7-4d40-9c97-bfed4db3db35"
   },
   "outputs": [
    {
     "name": "stdout",
     "output_type": "stream",
     "text": [
      "4.00000000144729\n"
     ]
    }
   ],
   "source": [
    "valOut = evaluate_derivate_fx(\"1x^2\", 2, 1e-6) \n",
    "print(valOut)\n"
   ]
  },
  {
   "cell_type": "code",
   "execution_count": 12,
   "metadata": {
    "colab": {},
    "colab_type": "code",
    "id": "_7-7xIVrxEyX"
   },
   "outputs": [],
   "source": [
    "def newtonSolverX(x0, strIn, eps):\n",
    "    xn = x0\n",
    "    error = 1\n",
    "    arrayIters = []\n",
    "    arrayF_x = []\n",
    "    arrayf_x = []\n",
    "    arrayXn = []\n",
    "    arrayErr = []\n",
    "\n",
    "    i = 0\n",
    "    h = 0.000001\n",
    "    while(error > eps):\n",
    "        F_x = evaluate_Fx(strIn, xn)\n",
    "        f_x = evaluate_derivate_fx(strIn, xn, h)\n",
    "        x_n1 = xn - F_x/f_x\n",
    "        #x_n1 = xn - (evaluate_Fx(f_x, xn)/evaluate_derivate_fx(f_x, xn, h))\n",
    "        #error = abs(x_n1 - xn)\n",
    "        error = abs(evaluate_Fx(strIn, xn))\n",
    "        i = i + 1\n",
    "        xn = x_n1\n",
    "        arrayIters.append(i)\n",
    "        arrayXn.append(xn)\n",
    "        arrayErr.append(error)\n",
    "        solution = [i, xn, error]\n",
    "        arrayF_x.append(F_x)\n",
    "        arrayf_x.append(f_x)\n",
    "\n",
    "    print(\"Finalizo...\")\n",
    "    TableOut = pd.DataFrame({'Iter':arrayIters, 'Xn':arrayXn, 'Error': arrayErr, 'F(x)':arrayF_x, \"f'(x)\":arrayf_x})\n",
    "    return TableOut, solution"
   ]
  },
  {
   "cell_type": "code",
   "execution_count": 13,
   "metadata": {
    "colab": {
     "base_uri": "https://localhost:8080/",
     "height": 68
    },
    "colab_type": "code",
    "id": "b-TH9G60qJDD",
    "outputId": "813aa0f1-2c77-42ef-86e7-c750b06c219c"
   },
   "outputs": [
    {
     "name": "stdout",
     "output_type": "stream",
     "text": [
      "Ingrese Ecuacion: 2x^2\n",
      "Valor Inicial: 5\n",
      "Finalizo...\n"
     ]
    }
   ],
   "source": [
    "#-3x^4+5x^3-4x^2-12x\n",
    "#16x^3-4\n",
    "ecuacion = input(\"Ingrese Ecuacion: \")\n",
    "x0 = int(input(\"Valor Inicial: \"))\n",
    "tableOut, soluc = newtonSolverX(x0, ecuacion, 0.0000001)"
   ]
  },
  {
   "cell_type": "markdown",
   "metadata": {
    "colab_type": "text",
    "id": "k8lkCVdkZ7Zk"
   },
   "source": []
  },
  {
   "cell_type": "code",
   "execution_count": 14,
   "metadata": {
    "colab": {
     "base_uri": "https://localhost:8080/",
     "height": 34
    },
    "colab_type": "code",
    "id": "WkzUl-02BbJg",
    "outputId": "772fd9bf-d06b-456c-83a4-4239d96f45e8"
   },
   "outputs": [
    {
     "data": {
      "text/plain": [
       "[16, 7.629394535035034e-05, 4.656612877697997e-08]"
      ]
     },
     "execution_count": 14,
     "metadata": {},
     "output_type": "execute_result"
    }
   ],
   "source": [
    "soluc"
   ]
  },
  {
   "cell_type": "code",
   "execution_count": 15,
   "metadata": {
    "colab": {
     "base_uri": "https://localhost:8080/",
     "height": 297
    },
    "colab_type": "code",
    "id": "3PL4UNMxBdtw",
    "outputId": "978223c8-e614-43d7-ba6a-fd42c2ac5d19"
   },
   "outputs": [
    {
     "data": {
      "text/html": [
       "<div>\n",
       "<style scoped>\n",
       "    .dataframe tbody tr th:only-of-type {\n",
       "        vertical-align: middle;\n",
       "    }\n",
       "\n",
       "    .dataframe tbody tr th {\n",
       "        vertical-align: top;\n",
       "    }\n",
       "\n",
       "    .dataframe thead th {\n",
       "        text-align: right;\n",
       "    }\n",
       "</style>\n",
       "<table border=\"1\" class=\"dataframe\">\n",
       "  <thead>\n",
       "    <tr style=\"text-align: right;\">\n",
       "      <th></th>\n",
       "      <th>Iter</th>\n",
       "      <th>Xn</th>\n",
       "      <th>Error</th>\n",
       "      <th>F(x)</th>\n",
       "      <th>f'(x)</th>\n",
       "    </tr>\n",
       "  </thead>\n",
       "  <tbody>\n",
       "    <tr>\n",
       "      <th>0</th>\n",
       "      <td>1</td>\n",
       "      <td>2.500000</td>\n",
       "      <td>5.000000e+01</td>\n",
       "      <td>5.000000e+01</td>\n",
       "      <td>20.000000</td>\n",
       "    </tr>\n",
       "    <tr>\n",
       "      <th>1</th>\n",
       "      <td>2</td>\n",
       "      <td>1.250000</td>\n",
       "      <td>1.250000e+01</td>\n",
       "      <td>1.250000e+01</td>\n",
       "      <td>10.000000</td>\n",
       "    </tr>\n",
       "    <tr>\n",
       "      <th>2</th>\n",
       "      <td>3</td>\n",
       "      <td>0.625000</td>\n",
       "      <td>3.125000e+00</td>\n",
       "      <td>3.125000e+00</td>\n",
       "      <td>5.000000</td>\n",
       "    </tr>\n",
       "    <tr>\n",
       "      <th>3</th>\n",
       "      <td>4</td>\n",
       "      <td>0.312500</td>\n",
       "      <td>7.812500e-01</td>\n",
       "      <td>7.812500e-01</td>\n",
       "      <td>2.500000</td>\n",
       "    </tr>\n",
       "    <tr>\n",
       "      <th>4</th>\n",
       "      <td>5</td>\n",
       "      <td>0.156250</td>\n",
       "      <td>1.953125e-01</td>\n",
       "      <td>1.953125e-01</td>\n",
       "      <td>1.250000</td>\n",
       "    </tr>\n",
       "    <tr>\n",
       "      <th>5</th>\n",
       "      <td>6</td>\n",
       "      <td>0.078125</td>\n",
       "      <td>4.882813e-02</td>\n",
       "      <td>4.882813e-02</td>\n",
       "      <td>0.625000</td>\n",
       "    </tr>\n",
       "    <tr>\n",
       "      <th>6</th>\n",
       "      <td>7</td>\n",
       "      <td>0.039063</td>\n",
       "      <td>1.220703e-02</td>\n",
       "      <td>1.220703e-02</td>\n",
       "      <td>0.312500</td>\n",
       "    </tr>\n",
       "    <tr>\n",
       "      <th>7</th>\n",
       "      <td>8</td>\n",
       "      <td>0.019531</td>\n",
       "      <td>3.051758e-03</td>\n",
       "      <td>3.051758e-03</td>\n",
       "      <td>0.156250</td>\n",
       "    </tr>\n",
       "    <tr>\n",
       "      <th>8</th>\n",
       "      <td>9</td>\n",
       "      <td>0.009766</td>\n",
       "      <td>7.629395e-04</td>\n",
       "      <td>7.629395e-04</td>\n",
       "      <td>0.078125</td>\n",
       "    </tr>\n",
       "    <tr>\n",
       "      <th>9</th>\n",
       "      <td>10</td>\n",
       "      <td>0.004883</td>\n",
       "      <td>1.907349e-04</td>\n",
       "      <td>1.907349e-04</td>\n",
       "      <td>0.039063</td>\n",
       "    </tr>\n",
       "    <tr>\n",
       "      <th>10</th>\n",
       "      <td>11</td>\n",
       "      <td>0.002441</td>\n",
       "      <td>4.768372e-05</td>\n",
       "      <td>4.768372e-05</td>\n",
       "      <td>0.019531</td>\n",
       "    </tr>\n",
       "    <tr>\n",
       "      <th>11</th>\n",
       "      <td>12</td>\n",
       "      <td>0.001221</td>\n",
       "      <td>1.192093e-05</td>\n",
       "      <td>1.192093e-05</td>\n",
       "      <td>0.009766</td>\n",
       "    </tr>\n",
       "    <tr>\n",
       "      <th>12</th>\n",
       "      <td>13</td>\n",
       "      <td>0.000610</td>\n",
       "      <td>2.980232e-06</td>\n",
       "      <td>2.980232e-06</td>\n",
       "      <td>0.004883</td>\n",
       "    </tr>\n",
       "    <tr>\n",
       "      <th>13</th>\n",
       "      <td>14</td>\n",
       "      <td>0.000305</td>\n",
       "      <td>7.450581e-07</td>\n",
       "      <td>7.450581e-07</td>\n",
       "      <td>0.002441</td>\n",
       "    </tr>\n",
       "    <tr>\n",
       "      <th>14</th>\n",
       "      <td>15</td>\n",
       "      <td>0.000153</td>\n",
       "      <td>1.862645e-07</td>\n",
       "      <td>1.862645e-07</td>\n",
       "      <td>0.001221</td>\n",
       "    </tr>\n",
       "    <tr>\n",
       "      <th>15</th>\n",
       "      <td>16</td>\n",
       "      <td>0.000076</td>\n",
       "      <td>4.656613e-08</td>\n",
       "      <td>4.656613e-08</td>\n",
       "      <td>0.000610</td>\n",
       "    </tr>\n",
       "  </tbody>\n",
       "</table>\n",
       "</div>"
      ],
      "text/plain": [
       "    Iter        Xn         Error          F(x)      f'(x)\n",
       "0      1  2.500000  5.000000e+01  5.000000e+01  20.000000\n",
       "1      2  1.250000  1.250000e+01  1.250000e+01  10.000000\n",
       "2      3  0.625000  3.125000e+00  3.125000e+00   5.000000\n",
       "3      4  0.312500  7.812500e-01  7.812500e-01   2.500000\n",
       "4      5  0.156250  1.953125e-01  1.953125e-01   1.250000\n",
       "5      6  0.078125  4.882813e-02  4.882813e-02   0.625000\n",
       "6      7  0.039063  1.220703e-02  1.220703e-02   0.312500\n",
       "7      8  0.019531  3.051758e-03  3.051758e-03   0.156250\n",
       "8      9  0.009766  7.629395e-04  7.629395e-04   0.078125\n",
       "9     10  0.004883  1.907349e-04  1.907349e-04   0.039063\n",
       "10    11  0.002441  4.768372e-05  4.768372e-05   0.019531\n",
       "11    12  0.001221  1.192093e-05  1.192093e-05   0.009766\n",
       "12    13  0.000610  2.980232e-06  2.980232e-06   0.004883\n",
       "13    14  0.000305  7.450581e-07  7.450581e-07   0.002441\n",
       "14    15  0.000153  1.862645e-07  1.862645e-07   0.001221\n",
       "15    16  0.000076  4.656613e-08  4.656613e-08   0.000610"
      ]
     },
     "execution_count": 15,
     "metadata": {},
     "output_type": "execute_result"
    }
   ],
   "source": [
    "tableOut"
   ]
  },
  {
   "cell_type": "code",
   "execution_count": 16,
   "metadata": {
    "colab": {
     "base_uri": "https://localhost:8080/",
     "height": 34
    },
    "colab_type": "code",
    "id": "6X9h2hYTvTf-",
    "outputId": "0f30973d-5fa3-4479-ce73-05e40c1fb5d1"
   },
   "outputs": [
    {
     "name": "stdout",
     "output_type": "stream",
     "text": [
      "solucion: 7.629394535035034e-05\n"
     ]
    }
   ],
   "source": [
    "xest = soluc[1]\n",
    "print(\"solucion: \" + str(xest))"
   ]
  },
  {
   "cell_type": "code",
   "execution_count": 17,
   "metadata": {
    "colab": {
     "base_uri": "https://localhost:8080/",
     "height": 34
    },
    "colab_type": "code",
    "id": "jq2wn8ibve69",
    "outputId": "90774643-4b57-4b8c-bba8-d6795b324018"
   },
   "outputs": [
    {
     "name": "stdout",
     "output_type": "stream",
     "text": [
      "[2.499923706848184, 1.249923706895506, 0.6249237063640555, 0.31242370623710813, 0.1561737061320011, 0.07804870609332538, 0.03898620607398751, 0.01945495606431858, 0.009689331059511221, 0.00480651855707366, 0.0023651123058616545, 0.001144409180255652, 0.0005340576174524391, 0.0002288818360510444, 7.629394535035364e-05, 0.0]\n"
     ]
    }
   ],
   "source": [
    "k = []\n",
    "ek = []\n",
    "iterX = 0\n",
    "for xn in tableOut['Xn']:\n",
    "  ek.append(abs(xn - xest))\n",
    "  k.append(iterX)\n",
    "  iterX = iterX + 1\n",
    "\n",
    "print(ek)"
   ]
  },
  {
   "cell_type": "code",
   "execution_count": 19,
   "metadata": {
    "colab": {
     "base_uri": "https://localhost:8080/",
     "height": 295
    },
    "colab_type": "code",
    "id": "g6wlWLiHwPV2",
    "outputId": "ea702d45-df1d-4fc2-8cc8-210815b115c3"
   },
   "outputs": [
    {
     "data": {
      "image/png": "[encoded data removed]",
      "text/plain": [
       "<Figure size 432x288 with 1 Axes>"
      ]
     },
     "metadata": {
      "needs_background": "light"
     },
     "output_type": "display_data"
    }
   ],
   "source": [
    "import matplotlib.pyplot as plt\n",
    "\n",
    "plt.plot(k, ek)\n",
    "plt.title(\"Convergencia\")\n",
    "plt.xlabel(\"Iteracion\")\n",
    "plt.ylabel(\"Error\")\n",
    "plt.show()\n"
   ]
  },
  {
   "cell_type": "code",
   "execution_count": 20,
   "metadata": {
    "colab": {
     "base_uri": "https://localhost:8080/",
     "height": 34
    },
    "colab_type": "code",
    "id": "uaPV4Y76x2jb",
    "outputId": "cfa41d49-5e3d-4ea7-954c-6c81a658f2ee"
   },
   "outputs": [
    {
     "data": {
      "text/plain": [
       "[2.499923706848184,\n",
       " 1.249923706895506,\n",
       " 0.6249237063640555,\n",
       " 0.31242370623710813,\n",
       " 0.1561737061320011,\n",
       " 0.07804870609332538,\n",
       " 0.03898620607398751,\n",
       " 0.01945495606431858,\n",
       " 0.009689331059511221,\n",
       " 0.00480651855707366,\n",
       " 0.0023651123058616545,\n",
       " 0.001144409180255652,\n",
       " 0.0005340576174524391]"
      ]
     },
     "execution_count": 20,
     "metadata": {},
     "output_type": "execute_result"
    }
   ],
   "source": [
    "k = []\n",
    "ek1 = ek[0:len(ek)-3]\n",
    "ek1"
   ]
  },
  {
   "cell_type": "code",
   "execution_count": 21,
   "metadata": {
    "colab": {
     "base_uri": "https://localhost:8080/",
     "height": 34
    },
    "colab_type": "code",
    "id": "lCMD_DiG0qdh",
    "outputId": "e38011bd-1ffe-4bb3-c760-18571c2b0b5f"
   },
   "outputs": [
    {
     "data": {
      "text/plain": [
       "[1.249923706895506,\n",
       " 0.6249237063640555,\n",
       " 0.31242370623710813,\n",
       " 0.1561737061320011,\n",
       " 0.07804870609332538,\n",
       " 0.03898620607398751,\n",
       " 0.01945495606431858,\n",
       " 0.009689331059511221,\n",
       " 0.00480651855707366,\n",
       " 0.0023651123058616545,\n",
       " 0.001144409180255652,\n",
       " 0.0005340576174524391,\n",
       " 0.0002288818360510444]"
      ]
     },
     "execution_count": 21,
     "metadata": {},
     "output_type": "execute_result"
    }
   ],
   "source": [
    "ek = ek[1:len(ek)-2]\n",
    "ek"
   ]
  },
  {
   "cell_type": "code",
   "execution_count": 22,
   "metadata": {
    "colab": {
     "base_uri": "https://localhost:8080/",
     "height": 295
    },
    "colab_type": "code",
    "id": "3XjZmWNJ1tIR",
    "outputId": "6f88843d-67bf-4a52-c0c1-808452bbe9bf"
   },
   "outputs": [
    {
     "data": {
      "image/png": "[encoded data removed]",
      "text/plain": [
       "<Figure size 432x288 with 1 Axes>"
      ]
     },
     "metadata": {
      "needs_background": "light"
     },
     "output_type": "display_data"
    }
   ],
   "source": [
    "plt.plot(ek, ek1, 'bo')\n",
    "plt.title(\"Orden de Convergencia\")\n",
    "plt.xlabel(\"Error\")\n",
    "plt.ylabel(\"Error Sigueinte\")\n",
    "plt.show()"
   ]
  },
  {
   "cell_type": "code",
   "execution_count": 23,
   "metadata": {
    "colab": {
     "base_uri": "https://localhost:8080/",
     "height": 34
    },
    "colab_type": "code",
    "id": "fZscVIUYLpw1",
    "outputId": "299baa4b-4e78-4140-8b4e-088d98ad93b4"
   },
   "outputs": [
    {
     "data": {
      "text/plain": [
       "array([[1.24992371e+00, 6.24923706e-01, 3.12423706e-01, 1.56173706e-01,\n",
       "        7.80487061e-02, 3.89862061e-02, 1.94549561e-02, 9.68933106e-03,\n",
       "        4.80651856e-03, 2.36511231e-03, 1.14440918e-03, 5.34057617e-04,\n",
       "        2.28881836e-04]])"
      ]
     },
     "execution_count": 23,
     "metadata": {},
     "output_type": "execute_result"
    }
   ],
   "source": [
    "import numpy as np\n",
    "import sys\n",
    "\n",
    "my_y = np.array(ek).reshape(1, -1)\n",
    "my_y"
   ]
  },
  {
   "cell_type": "code",
   "execution_count": 24,
   "metadata": {
    "colab": {
     "base_uri": "https://localhost:8080/",
     "height": 34
    },
    "colab_type": "code",
    "id": "oa-vBqnYLuMk",
    "outputId": "e510bdce-776a-4177-957b-85911a348afb"
   },
   "outputs": [
    {
     "data": {
      "text/plain": [
       "array([[2.49992371e+00, 1.24992371e+00, 6.24923706e-01, 3.12423706e-01,\n",
       "        1.56173706e-01, 7.80487061e-02, 3.89862061e-02, 1.94549561e-02,\n",
       "        9.68933106e-03, 4.80651856e-03, 2.36511231e-03, 1.14440918e-03,\n",
       "        5.34057617e-04]])"
      ]
     },
     "execution_count": 24,
     "metadata": {},
     "output_type": "execute_result"
    }
   ],
   "source": [
    "my_x = np.array(ek1).reshape(1, -1)\n",
    "my_x"
   ]
  },
  {
   "cell_type": "code",
   "execution_count": 25,
   "metadata": {
    "colab": {
     "base_uri": "https://localhost:8080/",
     "height": 34
    },
    "colab_type": "code",
    "id": "rFHxQRvgLKYY",
    "outputId": "a5f884b0-59e9-4e1c-a703-befe649481c4"
   },
   "outputs": [
    {
     "data": {
      "text/plain": [
       "array([[ 0.91626021,  0.22308251, -0.47012571, -1.16339498, -1.85678639,\n",
       "        -2.55042221, -3.24454739, -3.93965343, -4.63672989, -5.33778225,\n",
       "        -6.04692977, -6.77286677, -7.53500683]])"
      ]
     },
     "execution_count": 25,
     "metadata": {},
     "output_type": "execute_result"
    }
   ],
   "source": [
    "new_x = np.log(my_x)\n",
    "new_x"
   ]
  },
  {
   "cell_type": "code",
   "execution_count": 26,
   "metadata": {
    "colab": {
     "base_uri": "https://localhost:8080/",
     "height": 34
    },
    "colab_type": "code",
    "id": "35qme_fcQ395",
    "outputId": "a058e1af-a1c8-4b8a-b2fe-720e8db554b4"
   },
   "outputs": [
    {
     "data": {
      "text/plain": [
       "array([[ 0.22308251, -0.47012571, -1.16339498, -1.85678639, -2.55042221,\n",
       "        -3.24454739, -3.93965343, -4.63672989, -5.33778225, -6.04692977,\n",
       "        -6.77286677, -7.53500683, -8.38230469]])"
      ]
     },
     "execution_count": 26,
     "metadata": {},
     "output_type": "execute_result"
    }
   ],
   "source": [
    "new_y = np.log(my_y)\n",
    "new_y"
   ]
  },
  {
   "cell_type": "code",
   "execution_count": 27,
   "metadata": {
    "colab": {
     "base_uri": "https://localhost:8080/",
     "height": 142
    },
    "colab_type": "code",
    "id": "7_3TzbMFT2aD",
    "outputId": "8bcf2796-3fd2-4afa-b734-a8d1ed344ceb"
   },
   "outputs": [
    {
     "data": {
      "text/html": [
       "<div>\n",
       "<style scoped>\n",
       "    .dataframe tbody tr th:only-of-type {\n",
       "        vertical-align: middle;\n",
       "    }\n",
       "\n",
       "    .dataframe tbody tr th {\n",
       "        vertical-align: top;\n",
       "    }\n",
       "\n",
       "    .dataframe thead th {\n",
       "        text-align: right;\n",
       "    }\n",
       "</style>\n",
       "<table border=\"1\" class=\"dataframe\">\n",
       "  <thead>\n",
       "    <tr style=\"text-align: right;\">\n",
       "      <th></th>\n",
       "      <th>X</th>\n",
       "      <th>Y</th>\n",
       "    </tr>\n",
       "  </thead>\n",
       "  <tbody>\n",
       "    <tr>\n",
       "      <th>0</th>\n",
       "      <td>0.916260</td>\n",
       "      <td>0.223083</td>\n",
       "    </tr>\n",
       "    <tr>\n",
       "      <th>1</th>\n",
       "      <td>0.223083</td>\n",
       "      <td>-0.470126</td>\n",
       "    </tr>\n",
       "    <tr>\n",
       "      <th>2</th>\n",
       "      <td>-0.470126</td>\n",
       "      <td>-1.163395</td>\n",
       "    </tr>\n",
       "    <tr>\n",
       "      <th>3</th>\n",
       "      <td>-1.163395</td>\n",
       "      <td>-1.856786</td>\n",
       "    </tr>\n",
       "    <tr>\n",
       "      <th>4</th>\n",
       "      <td>-1.856786</td>\n",
       "      <td>-2.550422</td>\n",
       "    </tr>\n",
       "    <tr>\n",
       "      <th>5</th>\n",
       "      <td>-2.550422</td>\n",
       "      <td>-3.244547</td>\n",
       "    </tr>\n",
       "    <tr>\n",
       "      <th>6</th>\n",
       "      <td>-3.244547</td>\n",
       "      <td>-3.939653</td>\n",
       "    </tr>\n",
       "    <tr>\n",
       "      <th>7</th>\n",
       "      <td>-3.939653</td>\n",
       "      <td>-4.636730</td>\n",
       "    </tr>\n",
       "    <tr>\n",
       "      <th>8</th>\n",
       "      <td>-4.636730</td>\n",
       "      <td>-5.337782</td>\n",
       "    </tr>\n",
       "    <tr>\n",
       "      <th>9</th>\n",
       "      <td>-5.337782</td>\n",
       "      <td>-6.046930</td>\n",
       "    </tr>\n",
       "    <tr>\n",
       "      <th>10</th>\n",
       "      <td>-6.046930</td>\n",
       "      <td>-6.772867</td>\n",
       "    </tr>\n",
       "    <tr>\n",
       "      <th>11</th>\n",
       "      <td>-6.772867</td>\n",
       "      <td>-7.535007</td>\n",
       "    </tr>\n",
       "    <tr>\n",
       "      <th>12</th>\n",
       "      <td>-7.535007</td>\n",
       "      <td>-8.382305</td>\n",
       "    </tr>\n",
       "  </tbody>\n",
       "</table>\n",
       "</div>"
      ],
      "text/plain": [
       "           X         Y\n",
       "0   0.916260  0.223083\n",
       "1   0.223083 -0.470126\n",
       "2  -0.470126 -1.163395\n",
       "3  -1.163395 -1.856786\n",
       "4  -1.856786 -2.550422\n",
       "5  -2.550422 -3.244547\n",
       "6  -3.244547 -3.939653\n",
       "7  -3.939653 -4.636730\n",
       "8  -4.636730 -5.337782\n",
       "9  -5.337782 -6.046930\n",
       "10 -6.046930 -6.772867\n",
       "11 -6.772867 -7.535007\n",
       "12 -7.535007 -8.382305"
      ]
     },
     "execution_count": 27,
     "metadata": {},
     "output_type": "execute_result"
    }
   ],
   "source": [
    "dfData = pd.DataFrame({'X' : new_x[0,:], 'Y':new_y[0,:]})\n",
    "dfData"
   ]
  },
  {
   "cell_type": "code",
   "execution_count": 28,
   "metadata": {
    "colab": {
     "base_uri": "https://localhost:8080/",
     "height": 295
    },
    "colab_type": "code",
    "id": "vBDSwj-vLMoH",
    "outputId": "ee2ed3b3-cfb8-4db2-977e-2fe810e5c988"
   },
   "outputs": [
    {
     "data": {
      "image/png": "[encoded data removed]",
      "text/plain": [
       "<Figure size 432x288 with 1 Axes>"
      ]
     },
     "metadata": {
      "needs_background": "light"
     },
     "output_type": "display_data"
    }
   ],
   "source": [
    "plt.scatter(new_x, new_y)\n",
    "plt.title(\"Lo\")\n",
    "plt.xlabel(\"Ln(Error)\")\n",
    "plt.ylabel(\"Ln(Error Sigueinte)\")\n",
    "plt.show()"
   ]
  },
  {
   "cell_type": "code",
   "execution_count": 29,
   "metadata": {
    "colab": {
     "base_uri": "https://localhost:8080/",
     "height": 34
    },
    "colab_type": "code",
    "id": "DOchegi05T2k",
    "outputId": "ba35b955-dc0e-4e31-d30c-c9ce299b3099"
   },
   "outputs": [
    {
     "data": {
      "text/plain": [
       "LinearRegression(copy_X=True, fit_intercept=True, n_jobs=None, normalize=False)"
      ]
     },
     "execution_count": 29,
     "metadata": {},
     "output_type": "execute_result"
    }
   ],
   "source": [
    "from sklearn.linear_model import LinearRegression\n",
    "\n",
    "modelo = LinearRegression()  #objeto para manejar regresion lineal\n",
    "modelo.fit(dfData[['X']], dfData[['Y']])  #creamos modelo X y "
   ]
  },
  {
   "cell_type": "code",
   "execution_count": 30,
   "metadata": {
    "colab": {
     "base_uri": "https://localhost:8080/",
     "height": 34
    },
    "colab_type": "code",
    "id": "cpdID1bp7UeZ",
    "outputId": "0344d3bc-62b9-4d4e-998d-1099b460036c"
   },
   "outputs": [
    {
     "data": {
      "text/plain": [
       "array([[1.0116055]])"
      ]
     },
     "execution_count": 30,
     "metadata": {},
     "output_type": "execute_result"
    }
   ],
   "source": [
    "modelo.coef_"
   ]
  },
  {
   "cell_type": "code",
   "execution_count": 31,
   "metadata": {
    "colab": {
     "base_uri": "https://localhost:8080/",
     "height": 34
    },
    "colab_type": "code",
    "id": "IIIXXUheTEbC",
    "outputId": "9322a1bf-d9fb-4d9a-fc56-5f422341b7e3"
   },
   "outputs": [
    {
     "data": {
      "text/plain": [
       "array([-0.67740912])"
      ]
     },
     "execution_count": 31,
     "metadata": {},
     "output_type": "execute_result"
    }
   ],
   "source": [
    "interceptB = modelo.intercept_\n",
    "interceptB"
   ]
  },
  {
   "cell_type": "code",
   "execution_count": 32,
   "metadata": {
    "colab": {
     "base_uri": "https://localhost:8080/",
     "height": 34
    },
    "colab_type": "code",
    "id": "QJaVW9JfXK7K",
    "outputId": "646cd288-8f8f-4507-be0b-0b93a19919ff"
   },
   "outputs": [
    {
     "data": {
      "text/plain": [
       "array([0.50793128])"
      ]
     },
     "execution_count": 32,
     "metadata": {},
     "output_type": "execute_result"
    }
   ],
   "source": [
    "np.exp(interceptB)"
   ]
  },
  {
   "cell_type": "code",
   "execution_count": null,
   "metadata": {},
   "outputs": [],
   "source": []
  }
 ],
 "metadata": {
  "colab": {
   "collapsed_sections": [],
   "name": "método_newton_regex",
   "provenance": [],
   "version": "0.3.2"
  },
  "kernelspec": {
   "display_name": "Python 3",
   "language": "python",
   "name": "python3"
  },
  "language_info": {
   "codemirror_mode": {
    "name": "ipython",
    "version": 3
   },
   "file_extension": ".py",
   "mimetype": "text/x-python",
   "name": "python",
   "nbconvert_exporter": "python",
   "pygments_lexer": "ipython3",
   "version": "3.7.2"
  }
 },
 "nbformat": 4,
 "nbformat_minor": 1
}
