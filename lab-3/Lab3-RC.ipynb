{
 "cells": [
  {
   "cell_type": "markdown",
   "metadata": {},
   "source": [
    "# Laboratorio 3 - Regresiones lineales vía GD, SGD y *Minibatch*\n",
    "\n",
    "Universidad Galileo\n",
    "\n",
    "Algoritmos en la Ciencia de Datos\n",
    "\n",
    "**Rodrigo Rafael Chang Papa**\n",
    "\n",
    "**Carné: 19000625**"
   ]
  },
  {
   "cell_type": "markdown",
   "metadata": {},
   "source": [
    "## Carga de librerías"
   ]
  },
  {
   "cell_type": "code",
   "execution_count": 90,
   "metadata": {},
   "outputs": [],
   "source": [
    "import matplotlib.pyplot as plt\n",
    "import numpy as np\n",
    "import time"
   ]
  },
  {
   "cell_type": "markdown",
   "metadata": {},
   "source": [
    "## Generación de datos"
   ]
  },
  {
   "cell_type": "code",
   "execution_count": 5,
   "metadata": {},
   "outputs": [],
   "source": [
    "d = 100 #cantidad de columnas para el dataset.\n",
    "n = 1000 #cantidad de observaciones para el dataset.\n",
    "np.random.seed(1619)\n",
    "X = np.random.normal(0,1, size=(n,d))\n",
    "beta_true = np.random.normal(0,1, size=(d,1))\n",
    "y = X.dot(beta_true) + np.random.normal(0,0.5,size=(n,1))"
   ]
  },
  {
   "cell_type": "code",
   "execution_count": 7,
   "metadata": {},
   "outputs": [
    {
     "name": "stdout",
     "output_type": "stream",
     "text": [
      "Parámetros reales generados:\n",
      "[[ 1.84539847]\n",
      " [-0.87907338]\n",
      " [ 1.34807896]\n",
      " [-0.29829864]\n",
      " [ 1.33306707]\n",
      " [-1.13986581]\n",
      " [ 0.12886293]\n",
      " [ 0.79408485]\n",
      " [-0.92875069]\n",
      " [ 1.96186099]]\n"
     ]
    }
   ],
   "source": [
    "# Revisamos los parámetros reales\n",
    "print(\"Parámetros reales generados (primeros 10):\")\n",
    "print(beta_true[:10])"
   ]
  },
  {
   "cell_type": "markdown",
   "metadata": {},
   "source": [
    "## Definición de la función de costo"
   ]
  },
  {
   "cell_type": "code",
   "execution_count": 8,
   "metadata": {},
   "outputs": [],
   "source": [
    "def costo_fn(X,y, beta):\n",
    "    return np.mean(np.power(np.matmul(X,beta) - y, 2)) / 2"
   ]
  },
  {
   "cell_type": "markdown",
   "metadata": {},
   "source": [
    "***\n",
    "## **Parte 1: Solución cerrada** \n",
    "\n",
    "A continuación, aplicaremos operaciones matriciales para obtener la solución cerrada al problema de mínimos cuadrados ordinarios. En este caso $$ \\beta^{*} = \\left(X^T X\\right)^{-1} X^{T}Y$$"
   ]
  },
  {
   "cell_type": "code",
   "execution_count": 11,
   "metadata": {},
   "outputs": [
    {
     "name": "stdout",
     "output_type": "stream",
     "text": [
      "Solución cerrada (primeros diez):\n",
      "[[ 1.79935142]\n",
      " [-0.89458176]\n",
      " [ 1.3142147 ]\n",
      " [-0.31377729]\n",
      " [ 1.31127977]\n",
      " [-1.15463746]\n",
      " [ 0.13783279]\n",
      " [ 0.79171507]\n",
      " [-0.92181892]\n",
      " [ 1.98847133]]\n"
     ]
    }
   ],
   "source": [
    "# Solución cerrada\n",
    "beta_closed = np.matmul(np.linalg.inv(np.matmul(X.T,X)),np.matmul(X.T,y))\n",
    "print(\"Solución cerrada (primeros diez):\")\n",
    "print(beta_closed[:10])"
   ]
  },
  {
   "cell_type": "markdown",
   "metadata": {},
   "source": [
    "***\n",
    "## Parte 2: Gradiente en descenso (GD)\n",
    "En esta parte aplicaremos la técnica de *gradient descent* para obtener los parámetros estimados, minimizando iteración con iteración la función de costo. En este caso, el gradiente se computa utilizando *toda* la muestra o el *batch* completo."
   ]
  },
  {
   "cell_type": "code",
   "execution_count": 15,
   "metadata": {},
   "outputs": [
    {
     "data": {
      "text/plain": [
       "array([[0., 0.],\n",
       "       [0., 0.]])"
      ]
     },
     "execution_count": 15,
     "metadata": {},
     "output_type": "execute_result"
    }
   ],
   "source": [
    "np.zeros((2,2))"
   ]
  },
  {
   "cell_type": "code",
   "execution_count": 91,
   "metadata": {},
   "outputs": [],
   "source": [
    "# Función de gradiente en descenso\n",
    "def gradientDescent(X, y, learning_rate, epochs):\n",
    "    m = len(y)\n",
    "    costo_tray = []\n",
    "    print(\"GD: Ejecutando algoritmo de Gradient Descent con lr=%0.6f, epochs=%d\" % (learning_rate, epochs))\n",
    "    beta = np.zeros((d, 1))\n",
    "\n",
    "    start = time.time()\n",
    "    for i in range(epochs):\n",
    "        y_hat = np.matmul(X, beta)\n",
    "        beta += (-1/m) * learning_rate * (np.matmul(X.T,(y_hat - y)))\n",
    "        costo_tray.append(costo_fn(X, y, beta))\n",
    "    stop = time.time()\n",
    "    print(\"Tiempo de ejecución: \", (stop-start))\n",
    "    return beta, np.array(costo_tray)"
   ]
  },
  {
   "cell_type": "code",
   "execution_count": 92,
   "metadata": {},
   "outputs": [
    {
     "name": "stdout",
     "output_type": "stream",
     "text": [
      "GD: Ejecutando algoritmo de Gradient Descent con lr=0.000500, epochs=100\n",
      "Tiempo de ejecución:  0.0945131778717041\n",
      "GD: Ejecutando algoritmo de Gradient Descent con lr=0.005000, epochs=100\n",
      "Tiempo de ejecución:  0.03475689888000488\n",
      "GD: Ejecutando algoritmo de Gradient Descent con lr=0.050000, epochs=100\n",
      "Tiempo de ejecución:  0.02380228042602539\n"
     ]
    }
   ],
   "source": [
    "# Obtenemos parámetros con Gradient Descent por 100 epochs\n",
    "beta_gd1, costo_gd1 = gradientDescent(X, y, learning_rate=0.0005, epochs=100)\n",
    "beta_gd2, costo_gd2 = gradientDescent(X, y, learning_rate=0.005, epochs=100)\n",
    "beta_gd3, costo_gd3 = gradientDescent(X, y, learning_rate=0.05, epochs=100)"
   ]
  },
  {
   "cell_type": "code",
   "execution_count": 93,
   "metadata": {},
   "outputs": [
    {
     "data": {
      "image/png": "[encoded data removed]",
      "text/plain": [
       "<Figure size 1008x576 with 1 Axes>"
      ]
     },
     "metadata": {
      "needs_background": "light"
     },
     "output_type": "display_data"
    }
   ],
   "source": [
    "t = 50\n",
    "plt.figure(figsize=(14, 8))\n",
    "plt.plot(costo_gd1[:t], 'r-')\n",
    "plt.plot(costo_gd2[:t], 'g-')\n",
    "plt.plot(costo_gd3[:t], 'b*-')\n",
    "\n",
    "plt.xlabel('Epochs')\n",
    "plt.ylabel('Costo: Error cuadrático medio')\n",
    "plt.show()"
   ]
  },
  {
   "cell_type": "code",
   "execution_count": 50,
   "metadata": {},
   "outputs": [
    {
     "name": "stdout",
     "output_type": "stream",
     "text": [
      "GD: Ejecutando algoritmo de Gradient Descent con lr=0.050000\n",
      "Gradient descent (primeros diez):\n",
      "[[ 1.76701806]\n",
      " [-0.88733302]\n",
      " [ 1.28979787]\n",
      " [-0.31314826]\n",
      " [ 1.27564768]\n",
      " [-1.13346524]\n",
      " [ 0.12072632]\n",
      " [ 0.75848371]\n",
      " [-0.93146791]\n",
      " [ 1.94922251]]\n"
     ]
    }
   ],
   "source": [
    "beta_gd3, costo_gd3 = gradientDescent(X, y, learning_rate=0.05, epochs=100)\n",
    "print(\"Gradient descent (primeros diez):\")\n",
    "print(beta_gd3[:10])"
   ]
  },
  {
   "cell_type": "markdown",
   "metadata": {},
   "source": [
    "***\n",
    "## Parte 3: Gradiente en descenso estocástico (SGD)\n",
    "En esta parte aplicaremos la técnica de *stochastic gradient descent* para obtener los parámetros estimados, minimizando iteración con iteración la función de costo. En este caso, el gradiente se computa utilizando *un* ejemplo o muestra a la vez."
   ]
  },
  {
   "cell_type": "code",
   "execution_count": 94,
   "metadata": {},
   "outputs": [],
   "source": [
    "def StochasticGradientDescent(X, y, learning_rate, epochs):\n",
    "    m = len(y)\n",
    "    costo_tray = []\n",
    "    beta = np.zeros((d, 1))\n",
    "    print(\"SGD: Ejecutando algoritmo de Stochastic Gradient Descent con lr=%0.6f\" % (learning_rate))\n",
    "    \n",
    "    start = time.time()\n",
    "    # Para cada epoch\n",
    "    for j in range(epochs):\n",
    "        # Este loop se ejecuta el número de ejemplo que tengamos\n",
    "        for i in range(m):\n",
    "            # Se escoge un ejemplo aleatorio\n",
    "            random = np.random.randint(0,m)\n",
    "            X_i = X[random,:].reshape(1, -1)\n",
    "            y_i = y[random].reshape(1, -1)\n",
    "            # Computar el valor ajustado y actualizar los parámetros\n",
    "            y_hat = np.matmul(X_i,beta)\n",
    "            beta -= (1/m)*learning_rate*(np.matmul(X_i.T,(y_hat - y_i)))\n",
    "            costo_tray.append(costo_fn(X, y, beta))\n",
    "    stop = time.time()\n",
    "    print(\"Tiempo de ejecución: \", (stop-start))\n",
    "    return beta, np.array(costo_tray)"
   ]
  },
  {
   "cell_type": "code",
   "execution_count": 95,
   "metadata": {},
   "outputs": [
    {
     "name": "stdout",
     "output_type": "stream",
     "text": [
      "SGD: Ejecutando algoritmo de Stochastic Gradient Descent con lr=0.000500\n",
      "Tiempo de ejecución:  0.45501017570495605\n",
      "SGD: Ejecutando algoritmo de Stochastic Gradient Descent con lr=0.005000\n",
      "Tiempo de ejecución:  0.4124617576599121\n",
      "SGD: Ejecutando algoritmo de Stochastic Gradient Descent con lr=0.010000\n",
      "Tiempo de ejecución:  0.6798934936523438\n"
     ]
    }
   ],
   "source": [
    "# Ejecutar con parámetros diferentes\n",
    "beta_sgd1, costo_sgd1 = StochasticGradientDescent(X,y, learning_rate=0.0005, epochs=2)\n",
    "beta_sgd2, costo_sgd2 = StochasticGradientDescent(X,y, learning_rate=0.005, epochs=2)\n",
    "beta_sgd3, costo_sgd3 = StochasticGradientDescent(X,y, learning_rate=0.01, epochs=2)"
   ]
  },
  {
   "cell_type": "code",
   "execution_count": 96,
   "metadata": {},
   "outputs": [
    {
     "data": {
      "image/png": "[encoded data removed]",
      "text/plain": [
       "<Figure size 1008x576 with 1 Axes>"
      ]
     },
     "metadata": {
      "needs_background": "light"
     },
     "output_type": "display_data"
    }
   ],
   "source": [
    "t = 100\n",
    "plt.figure(figsize=(14, 8))\n",
    "plt.plot(costo_sgd1[:t], 'r-')\n",
    "plt.plot(costo_sgd2[:t], 'g-')\n",
    "plt.plot(costo_sgd3[:t], 'b*-')\n",
    "\n",
    "plt.xlabel('Número de iteraciones (número de ejemplos)')\n",
    "plt.ylabel('Costo: Error cuadrático medio')\n",
    "plt.show()"
   ]
  },
  {
   "cell_type": "code",
   "execution_count": 97,
   "metadata": {},
   "outputs": [
    {
     "name": "stdout",
     "output_type": "stream",
     "text": [
      "Stochastic Gradient Descent (primeros diez):\n",
      "[[ 0.03100521]\n",
      " [-0.03018545]\n",
      " [ 0.02277101]\n",
      " [-0.00073154]\n",
      " [ 0.01588848]\n",
      " [-0.01281569]\n",
      " [-0.0014884 ]\n",
      " [ 0.01270546]\n",
      " [-0.02316077]\n",
      " [ 0.04827342]]\n"
     ]
    }
   ],
   "source": [
    "print(\"Stochastic Gradient Descent (primeros diez):\")\n",
    "print(beta_sgd3[:10])"
   ]
  },
  {
   "cell_type": "markdown",
   "metadata": {},
   "source": [
    "***\n",
    "## Parte 4: Gradiente en descenso con *minibatch* (MBGD)\n",
    "En esta parte aplicaremos la técnica de *minibatch gradient descent* para obtener los parámetros estimados, minimizando iteración con iteración la función de costo. En este caso, el gradiente se computa utilizando *un subconjunto (minibatch)* de ejemplos a la vez."
   ]
  },
  {
   "cell_type": "code",
   "execution_count": 98,
   "metadata": {},
   "outputs": [],
   "source": [
    "def MiniBatchGD(X, y, learning_rate, epochs, batch_size):\n",
    "    m = len(y)\n",
    "    # Obtenemos el número de batches por epoch\n",
    "    num_batches = int(m / batch_size)\n",
    "    costo_tray = []\n",
    "    # Inicializar el vector de betas\n",
    "    beta = np.zeros((d, 1))\n",
    "    print(\"MBGD: Ejecutando algoritmo de Minibatch Gradient Descent con lr=%0.6f, batch_size=%d\" % (learning_rate, batch_size))\n",
    "    \n",
    "    start = time.time()\n",
    "    # Para cada epoch\n",
    "    for a in range(epochs):\n",
    "        # Obtener una permutación del batch completo\n",
    "        sorted_idx = np.random.permutation(m)\n",
    "        X = X[sorted_idx]\n",
    "        y = y[sorted_idx]\n",
    "        \n",
    "        # Ejecutar el gradiente en descenso con cada minibatch\n",
    "        for i in range(0, m, batch_size):\n",
    "            # Obtener el batch\n",
    "            X_i = X[i : i + batch_size]\n",
    "            y_i = y[i : i + batch_size]\n",
    "            # Obtener valor ajustado y actualizar parámetros\n",
    "            y_hat = np.matmul(X_i,beta)\n",
    "            beta = beta - (1/m)*learning_rate*(np.matmul(X_i.T,(y_hat - y_i)))\n",
    "            # Obtener el costo\n",
    "            costo_tray.append(costo_fn(X, y, beta))\n",
    "    stop = time.time()\n",
    "    print(\"Tiempo de ejecución: \", (stop-start))\n",
    "    return beta, np.array(costo_tray)"
   ]
  },
  {
   "cell_type": "code",
   "execution_count": 131,
   "metadata": {},
   "outputs": [
    {
     "name": "stdout",
     "output_type": "stream",
     "text": [
      "MBGD: Ejecutando algoritmo de Minibatch Gradient Descent con lr=0.000500, batch_size=25\n",
      "Tiempo de ejecución:  0.8140425682067871\n",
      "MBGD: Ejecutando algoritmo de Minibatch Gradient Descent con lr=0.005000, batch_size=25\n",
      "Tiempo de ejecución:  0.8365840911865234\n",
      "MBGD: Ejecutando algoritmo de Minibatch Gradient Descent con lr=0.010000, batch_size=100\n",
      "Tiempo de ejecución:  0.2835080623626709\n"
     ]
    }
   ],
   "source": [
    "beta_mbgd1, costo_mbgd1 = MiniBatchGD(X, y, learning_rate=0.0005, epochs=100, batch_size=25)\n",
    "beta_mbgd2, costo_mbgd2 = MiniBatchGD(X,y, learning_rate=0.005, epochs=100, batch_size=25)\n",
    "beta_mbgd3, costo_mbgd3 = MiniBatchGD(X,y, learning_rate=0.01, epochs=100, batch_size=100)"
   ]
  },
  {
   "cell_type": "code",
   "execution_count": 133,
   "metadata": {
    "scrolled": true
   },
   "outputs": [
    {
     "data": {
      "image/png": "[encoded data removed]",
      "text/plain": [
       "<Figure size 1008x576 with 1 Axes>"
      ]
     },
     "metadata": {
      "needs_background": "light"
     },
     "output_type": "display_data"
    }
   ],
   "source": [
    "t = 100\n",
    "plt.figure(figsize=(14, 8))\n",
    "plt.plot(costo_mbgd1[:t], 'r-')\n",
    "plt.plot(costo_mbgd2[:t], 'g-')\n",
    "plt.plot(costo_mbgd3[:t], 'b*-')\n",
    "\n",
    "plt.xlabel('Número de minibatches ejecutados')\n",
    "plt.ylabel('Costo: Error cuadrático medio')\n",
    "plt.show()"
   ]
  },
  {
   "cell_type": "code",
   "execution_count": 101,
   "metadata": {},
   "outputs": [
    {
     "name": "stdout",
     "output_type": "stream",
     "text": [
      "Minibatch Gradient Descent (primeros diez):\n",
      "[[ 1.11607837]\n",
      " [-0.67717861]\n",
      " [ 0.78299548]\n",
      " [-0.15461903]\n",
      " [ 0.67266431]\n",
      " [-0.65887518]\n",
      " [ 0.0103713 ]\n",
      " [ 0.38318288]\n",
      " [-0.64617285]\n",
      " [ 1.23102245]]\n"
     ]
    }
   ],
   "source": [
    "print(\"Minibatch Gradient Descent (primeros diez):\")\n",
    "print(beta_mbgd3[:10])"
   ]
  },
  {
   "cell_type": "markdown",
   "metadata": {},
   "source": [
    "***\n",
    "## Parte 5: comparación\n",
    "En esta parte intentaremos obtener los mejores parámetros para cada uno de los 3 tipos de algoritmos de gradiente en descenso."
   ]
  },
  {
   "cell_type": "code",
   "execution_count": 134,
   "metadata": {},
   "outputs": [
    {
     "name": "stdout",
     "output_type": "stream",
     "text": [
      "## Obtención de los mejores parámetros y comparación\n",
      "# Solución cerrada\n",
      "Tiempo de ejecución:  0.07294106483459473\n",
      "Costo:  0.1206508760462731\n",
      "Norma euclidiana entre beta_true y beta_closed: 0.1753\n"
     ]
    }
   ],
   "source": [
    "print(\"## Obtención de los mejores parámetros y comparación\")\n",
    "print(\"# Solución cerrada\")\n",
    "start = time.time()\n",
    "beta_closed = np.matmul(np.linalg.inv(np.matmul(X.T,X)),np.matmul(X.T,y))\n",
    "stop = time.time()\n",
    "print(\"Tiempo de ejecución: \", (stop-start))\n",
    "print(\"Costo: \", costo_fn(X, y, beta_closed))\n",
    "print(\"Norma euclidiana entre beta_true y beta_closed: %0.4f\" % (np.linalg.norm(beta_true - beta_closed)))"
   ]
  },
  {
   "cell_type": "code",
   "execution_count": 127,
   "metadata": {},
   "outputs": [
    {
     "name": "stdout",
     "output_type": "stream",
     "text": [
      "# GD\n",
      "GD: Ejecutando algoritmo de Gradient Descent con lr=0.050000, epochs=100\n",
      "Tiempo de ejecución:  0.05608201026916504\n",
      "Costo:  0.14194195992305908\n",
      "Norma euclidiana entre beta_true y beta_gd: 0.3123\n"
     ]
    }
   ],
   "source": [
    "print(\"# GD\")\n",
    "beta_gd, costo_gd = gradientDescent(X, y, learning_rate=0.05, epochs=100)\n",
    "print(\"Costo: \", costo_fn(X, y, beta_gd))\n",
    "print(\"Norma euclidiana entre beta_true y beta_gd: %0.4f\" % (np.linalg.norm(beta_true - beta_gd)))"
   ]
  },
  {
   "cell_type": "code",
   "execution_count": 128,
   "metadata": {},
   "outputs": [
    {
     "name": "stdout",
     "output_type": "stream",
     "text": [
      "# SGD\n",
      "SGD: Ejecutando algoritmo de Stochastic Gradient Descent con lr=0.010000\n",
      "Tiempo de ejecución:  21.626715421676636\n",
      "Costo:  6.74515837473899\n",
      "Norma euclidiana entre beta_true y beta_sgd: 4.0513\n"
     ]
    }
   ],
   "source": [
    "print(\"# SGD\")\n",
    "beta_sgd, costo_sgd = StochasticGradientDescent(X,y, learning_rate=0.01, epochs=100)\n",
    "print(\"Costo: \", costo_fn(X, y, beta_sgd))\n",
    "print(\"Norma euclidiana entre beta_true y beta_sgd: %0.4f\" % (np.linalg.norm(beta_true - beta_sgd)))"
   ]
  },
  {
   "cell_type": "code",
   "execution_count": 129,
   "metadata": {},
   "outputs": [
    {
     "name": "stdout",
     "output_type": "stream",
     "text": [
      "# MBGD\n",
      "MBGD: Ejecutando algoritmo de Minibatch Gradient Descent con lr=0.010000, batch_size=500\n",
      "Tiempo de ejecución:  0.5495855808258057\n",
      "Costo:  0.14386058996471077\n",
      "Norma euclidiana entre beta_true y beta_mbgd: 0.3220\n"
     ]
    }
   ],
   "source": [
    "print(\"# MBGD\")\n",
    "beta_mbgd, costo_mbgd = MiniBatchGD(X,y, learning_rate=0.01, epochs=500, batch_size=500)\n",
    "print(\"Costo: \", costo_fn(X, y, beta_mbgd))\n",
    "print(\"Norma euclidiana entre beta_true y beta_mbgd: %0.4f\" % (np.linalg.norm(beta_true - beta_mbgd)))"
   ]
  }
 ],
 "metadata": {
  "kernelspec": {
   "display_name": "Python 3",
   "language": "python",
   "name": "python3"
  },
  "language_info": {
   "codemirror_mode": {
    "name": "ipython",
    "version": 3
   },
   "file_extension": ".py",
   "mimetype": "text/x-python",
   "name": "python",
   "nbconvert_exporter": "python",
   "pygments_lexer": "ipython3",
   "version": "3.7.2"
  }
 },
 "nbformat": 4,
 "nbformat_minor": 2
}
